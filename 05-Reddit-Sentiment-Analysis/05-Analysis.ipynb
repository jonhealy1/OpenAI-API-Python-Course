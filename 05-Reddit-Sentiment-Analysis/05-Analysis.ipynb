{
 "cells": [
  {
   "cell_type": "markdown",
   "id": "3bb769e0",
   "metadata": {},
   "source": [
    "<a href = \"https://www.pieriantraining.com\"><img src=\"../PT Centered Purple.png\"> </a>\n",
    "\n",
    "<em style=\"text-align:center\">Copyrighted by Pierian Training</em>"
   ]
  },
  {
   "cell_type": "markdown",
   "id": "50ef79d9",
   "metadata": {},
   "source": [
    "## Reddit API:\n",
    "1. Go to https://www.reddit.com/prefs/apps\n",
    "2. Click \"create application\"\n",
    "3. Name: My Sentiment Example\n",
    "4. Choose script\n",
    "5. Leave *description* and *about url* blank\n",
    "6. Add http://www.example.com/unused/redirect/uri to *redirect uri*"
   ]
  },
  {
   "cell_type": "markdown",
   "id": "0c82159c",
   "metadata": {},
   "source": [
    "## Imports"
   ]
  },
  {
   "cell_type": "code",
   "execution_count": 19,
   "id": "3f8439a1",
   "metadata": {},
   "outputs": [],
   "source": [
    "import praw\n",
    "import openai"
   ]
  },
  {
   "cell_type": "code",
   "execution_count": 91,
   "id": "99e65c62",
   "metadata": {},
   "outputs": [],
   "source": [
    "reddit = praw.Reddit(client_id=\"TODO\", # the App ID retreived from the reddit application\n",
    "                     client_secret=\"TODO\", # the secret retreived from the reddit application\n",
    "                     user_agent=\"sentiment analysis test (by u/YourUserName)\"  # add your reddit name\n",
    "                    )"
   ]
  },
  {
   "cell_type": "markdown",
   "id": "7a3cbf37",
   "metadata": {},
   "source": [
    "We can now already use our reddit instance to obtain public information from reddit!"
   ]
  },
  {
   "cell_type": "code",
   "execution_count": 5,
   "id": "239d2340",
   "metadata": {},
   "outputs": [
    {
     "name": "stdout",
     "output_type": "stream",
     "text": [
      "test\n",
      "While I'm all for testing out bots in this subreddit, these accounts have been making hundreds of posts per week. For many months. I follow this subreddit because it's interesting to see what people are using it for. These accounts flood my homepage on a daily basis.\n",
      "-\n",
      "asd\n",
      "cltv test\n",
      "cool\n",
      "Sample File Based Image Part 2\n",
      "Sample File Based Image\n",
      "It didn't seem like trouble at first.\n",
      "kgjkjg\n"
     ]
    }
   ],
   "source": [
    "for submission in reddit.subreddit(\"test\").hot(limit=10):\n",
    "    print(submission.title)\n"
   ]
  },
  {
   "cell_type": "markdown",
   "id": "d96e40a7",
   "metadata": {},
   "source": [
    "Of course we want to access hot subreddits like r/wallstreetbets or r/stocks"
   ]
  },
  {
   "cell_type": "code",
   "execution_count": 12,
   "id": "e2ba3e2c",
   "metadata": {},
   "outputs": [],
   "source": [
    "subreddit_stocks = reddit.subreddit(\"stocks\")"
   ]
  },
  {
   "cell_type": "code",
   "execution_count": 16,
   "id": "4978a90b",
   "metadata": {},
   "outputs": [
    {
     "name": "stdout",
     "output_type": "stream",
     "text": [
      "stocks\n",
      "Stocks - Investing and trading for all\n",
      "5871\n"
     ]
    }
   ],
   "source": [
    "print(subreddit_stocks.display_name)\n",
    "print(subreddit_stocks.title)\n",
    "print(subreddit_stocks.accounts_active)"
   ]
  },
  {
   "cell_type": "markdown",
   "id": "9ca002e6",
   "metadata": {},
   "source": [
    "Let's say we want to access the first 20 hot posts:"
   ]
  },
  {
   "cell_type": "code",
   "execution_count": 17,
   "id": "8c56d721",
   "metadata": {},
   "outputs": [
    {
     "name": "stdout",
     "output_type": "stream",
     "text": [
      "Rate My Portfolio - r/Stocks Quarterly Thread December 2022\n",
      "r/Stocks Daily Discussion & Technicals Tuesday - Jan 31, 2023\n",
      "PayPal to lay off 2,000 employees in coming weeks, about 7% of workforce\n",
      "AMD Earnings - beats on sales and profit but warns of a 10% revenue decline in Q1\n",
      "Intel cutting employee compensation to preserve cash as it struggles with a rapid drop in revenue and earnings\n",
      "Snap shares plunge on weak revenue as company again declines to provide a forecast\n",
      "Jim Cramer says we’re in a bull market, so buy on the dip\n",
      "Selling everything before fed speech, then buying back cheaper?\n",
      "J&J denied Texas two step strategy\n",
      "SoFi aims to outgrow the Fintech Market.\n",
      "GM smashes expectations and guides toward a strong 2023, despite margin squeeze\n",
      "10 lessons from the investing book “Margin of Safety” by Seth Klarman:\n",
      "Apple’s expected to post its first revenue decline since 2019 on Thursday\n",
      "Meta technology chief Bosworth implies company has lost focus\n",
      "Article: Justice Department seeks Tesla automated driving documents\n",
      "Thoughts on GIS (General Mills)\n",
      "Why are there so many huge gain % Canadian Mineral/Mining/Energy stocks?\n",
      "Best Fashion Stocks to Buy Now in 2023: Top Clothing Stocks\n",
      "I bought 47 Tesla shares 2 weeks ago. Is now a good time to sell?\n",
      "With 30% of the S&P 500 reporting for Q4, here is the scorecard for earnings vs estimates.\n"
     ]
    }
   ],
   "source": [
    "for post in subreddit_stocks.hot(limit=20):\n",
    "    print(post.title)"
   ]
  },
  {
   "cell_type": "markdown",
   "id": "c31f370d",
   "metadata": {},
   "source": [
    "We can now use GPT to extract stock tickers from all of these posts and tell us whether the sentiment for the mentioned assets is positive, neutral or negative:"
   ]
  },
  {
   "cell_type": "markdown",
   "id": "e5480358",
   "metadata": {},
   "source": [
    "## OpenAI API\n",
    "\n",
    "Remember to use the notebook as shown, you must set your OpenAI API Key as an environment variable. Obviously, there are many ways you could provide your API Key to the Python code, input() or even hard-coded, but those are typically not recommended for safety reasons. Having it as an environment variable let's the key live on the computer, but not actually be present in the code.\n",
    "\n",
    "### Set-up Open AI API Key\n",
    "\n",
    "We'll only need to do this once per computer"
   ]
  },
  {
   "cell_type": "code",
   "execution_count": 18,
   "id": "b42ed8c5",
   "metadata": {},
   "outputs": [],
   "source": [
    "# Uncomment below and swap in your key to place your environment key using Python\n",
    "# Then you can delete the key string and the code cell below will still work!\n",
    "# os.environ[\"OPENAI_API_KEY\"] = \"Your key goes here!"
   ]
  },
  {
   "cell_type": "code",
   "execution_count": 20,
   "id": "149550f5",
   "metadata": {},
   "outputs": [],
   "source": [
    "openai.api_key = os.getenv(\"OPENAI_API_KEY\")"
   ]
  },
  {
   "cell_type": "markdown",
   "id": "27abbc84",
   "metadata": {},
   "source": [
    "## Prompt Generation\n",
    "First, we need to create a formatted string of all titles"
   ]
  },
  {
   "cell_type": "code",
   "execution_count": 24,
   "id": "abc5a92d",
   "metadata": {},
   "outputs": [
    {
     "data": {
      "text/plain": [
       "<bound method BaseListingMixin.hot of Subreddit(display_name='stocks')>"
      ]
     },
     "execution_count": 24,
     "metadata": {},
     "output_type": "execute_result"
    }
   ],
   "source": [
    "getattr(subreddit_stocks, \"hot\")"
   ]
  },
  {
   "cell_type": "code",
   "execution_count": 83,
   "id": "9424948d",
   "metadata": {},
   "outputs": [],
   "source": [
    "def get_titles(subreddit=\"stocks\", sub_instance=\"hot\", limit=10, skip_first=2):\n",
    "    subreddit = reddit.subreddit(subreddit)\n",
    "    titles = \"\"\n",
    "    for c, post in enumerate(getattr(subreddit, sub_instance)(limit=limit)):\n",
    "\n",
    "        if c < skip_first:\n",
    "            continue\n",
    "        \n",
    "        c+=(1-skip_first)\n",
    "\n",
    "        titles += str(c) + \". \"\n",
    "        titles += post.title\n",
    "        titles += \"\\n\"\n",
    "    return titles"
   ]
  },
  {
   "cell_type": "code",
   "execution_count": 84,
   "id": "bdba4923",
   "metadata": {},
   "outputs": [],
   "source": [
    "titles = get_titles(subreddit=\"stocks\", limit=12)"
   ]
  },
  {
   "cell_type": "code",
   "execution_count": 85,
   "id": "0aa5842d",
   "metadata": {},
   "outputs": [
    {
     "name": "stdout",
     "output_type": "stream",
     "text": [
      "1. PayPal to lay off 2,000 employees in coming weeks, about 7% of workforce\n",
      "2. AMD Earnings - beats on sales and profit but warns of a 10% revenue decline in Q1\n",
      "3. Intel cutting employee compensation to preserve cash as it struggles with a rapid drop in revenue and earnings\n",
      "4. Snap shares plunge on weak revenue as company again declines to provide a forecast\n",
      "5. Jim Cramer says we’re in a bull market, so buy on the dip\n",
      "6. Selling everything before fed speech, then buying back cheaper?\n",
      "7. J&J denied Texas two step strategy\n",
      "8. SoFi aims to outgrow the Fintech Market.\n",
      "9. GM smashes expectations and guides toward a strong 2023, despite margin squeeze\n",
      "10. 10 lessons from the investing book “Margin of Safety” by Seth Klarman:\n",
      "\n"
     ]
    }
   ],
   "source": [
    "print(titles)"
   ]
  },
  {
   "cell_type": "code",
   "execution_count": 86,
   "id": "dbf1395f",
   "metadata": {},
   "outputs": [],
   "source": [
    "def create_prompt(post_titles):\n",
    "\n",
    "    task = \"Return the stock ticker or company in the following headings and classify the sentiment. If no ticker or company is mentioned write 'No company mentioned':\\n\\n\"\n",
    "    return task + post_titles\n"
   ]
  },
  {
   "cell_type": "code",
   "execution_count": 87,
   "id": "1c761a05",
   "metadata": {},
   "outputs": [],
   "source": [
    "prompt = create_prompt(titles)"
   ]
  },
  {
   "cell_type": "code",
   "execution_count": 88,
   "id": "85fcd8b3",
   "metadata": {},
   "outputs": [
    {
     "name": "stdout",
     "output_type": "stream",
     "text": [
      "Return the stock ticker or company in the following headings and classify the sentiment. If no ticker or company is mentioned write 'No company mentioned':\n",
      "\n",
      "1. PayPal to lay off 2,000 employees in coming weeks, about 7% of workforce\n",
      "2. AMD Earnings - beats on sales and profit but warns of a 10% revenue decline in Q1\n",
      "3. Intel cutting employee compensation to preserve cash as it struggles with a rapid drop in revenue and earnings\n",
      "4. Snap shares plunge on weak revenue as company again declines to provide a forecast\n",
      "5. Jim Cramer says we’re in a bull market, so buy on the dip\n",
      "6. Selling everything before fed speech, then buying back cheaper?\n",
      "7. J&J denied Texas two step strategy\n",
      "8. SoFi aims to outgrow the Fintech Market.\n",
      "9. GM smashes expectations and guides toward a strong 2023, despite margin squeeze\n",
      "10. 10 lessons from the investing book “Margin of Safety” by Seth Klarman:\n",
      "\n"
     ]
    }
   ],
   "source": [
    "print(prompt)"
   ]
  },
  {
   "cell_type": "code",
   "execution_count": 89,
   "id": "84b80bdd",
   "metadata": {},
   "outputs": [],
   "source": [
    "response = openai.Completion.create(engine=\"text-davinci-003\",\n",
    "                                            prompt=prompt,\n",
    "                                            max_tokens=256,\n",
    "                                            temperature=0,\n",
    "                                            top_p=1.0,\n",
    "                                            frequency_penalty=0.0,\n",
    "                                            presence_penalty=0.0)\n"
   ]
  },
  {
   "cell_type": "code",
   "execution_count": 90,
   "id": "2f421e6f",
   "metadata": {},
   "outputs": [
    {
     "name": "stdout",
     "output_type": "stream",
     "text": [
      "\n",
      "1. PayPal - No sentiment\n",
      "2. AMD - Negative\n",
      "3. Intel - Negative\n",
      "4. Snap - Negative\n",
      "5. No company mentioned - No sentiment\n",
      "6. No company mentioned - No sentiment\n",
      "7. J&J - No sentiment\n",
      "8. SoFi - Positive\n",
      "9. GM - Positive\n",
      "10. No company mentioned - No sentiment\n"
     ]
    }
   ],
   "source": [
    "print(response[\"choices\"][0][\"text\"])"
   ]
  },
  {
   "cell_type": "code",
   "execution_count": null,
   "id": "1e902059",
   "metadata": {},
   "outputs": [],
   "source": []
  }
 ],
 "metadata": {
  "kernelspec": {
   "display_name": "Python 3 (ipykernel)",
   "language": "python",
   "name": "python3"
  },
  "language_info": {
   "codemirror_mode": {
    "name": "ipython",
    "version": 3
   },
   "file_extension": ".py",
   "mimetype": "text/x-python",
   "name": "python",
   "nbconvert_exporter": "python",
   "pygments_lexer": "ipython3",
   "version": "3.9.0"
  }
 },
 "nbformat": 4,
 "nbformat_minor": 5
}

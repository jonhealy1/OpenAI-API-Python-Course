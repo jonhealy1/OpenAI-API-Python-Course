{
 "cells": [
  {
   "cell_type": "markdown",
   "id": "e8c36ce4",
   "metadata": {},
   "source": [
    "## Imports"
   ]
  },
  {
   "cell_type": "code",
   "execution_count": 32,
   "id": "55f3f840",
   "metadata": {},
   "outputs": [],
   "source": [
    "import json\n",
    "import os\n",
    "\n",
    "import pandas as pd\n",
    "import openai\n"
   ]
  },
  {
   "cell_type": "code",
   "execution_count": 9,
   "id": "557d4c58",
   "metadata": {},
   "outputs": [],
   "source": [
    "q_a_df = pd.read_csv(\"python_qa.csv\")"
   ]
  },
  {
   "cell_type": "markdown",
   "id": "5a8b5fb0",
   "metadata": {},
   "source": [
    "Convert to fine tuning format"
   ]
  },
  {
   "cell_type": "code",
   "execution_count": 10,
   "id": "3d94f0ca",
   "metadata": {},
   "outputs": [],
   "source": [
    "questions, answers = q_a_df[\"Body\"], q_a_df[\"Answer\"]"
   ]
  },
  {
   "cell_type": "code",
   "execution_count": 12,
   "id": "cad2ae82",
   "metadata": {},
   "outputs": [],
   "source": [
    "q_a_openai_format = [{\"prompt\" : q, \"completion\": a} for q, a in zip(questions, answers)]"
   ]
  },
  {
   "cell_type": "code",
   "execution_count": 13,
   "id": "c0f61961",
   "metadata": {},
   "outputs": [
    {
     "data": {
      "text/plain": [
       "{'prompt': 'I am taking a class that requires Python. We will review the language in class next week, and I am a quick study on new languages, but I was wondering if there are any really great Python books I can grab while I am struggling through the basics of setting up my IDE, server environment and all those other \"gotchas\" that come with a new programming language. Suggestions?\\n',\n",
       " 'completion': \"I loved Dive Into Python, especially if you're a quick study.  The beginning basics are all covered (and may move slowly for you), but the latter few chapters are great learning tools.\\n\\nPlus, Pilgrim is a pretty good writer.\\n\"}"
      ]
     },
     "execution_count": 13,
     "metadata": {},
     "output_type": "execute_result"
    }
   ],
   "source": [
    "q_a_openai_format[4]"
   ]
  },
  {
   "cell_type": "code",
   "execution_count": null,
   "id": "0fc44041",
   "metadata": {},
   "outputs": [],
   "source": [
    "dataset_size = 500"
   ]
  },
  {
   "cell_type": "code",
   "execution_count": 65,
   "id": "f497600a",
   "metadata": {},
   "outputs": [],
   "source": [
    "with open(\"training_data.json\", \"w\") as f:\n",
    "    for entry in q_a_openai_format[:dataset_size]:\n",
    "        f.write(json.dumps(entry))\n",
    "        f.write(\"\\n\")"
   ]
  },
  {
   "cell_type": "code",
   "execution_count": 66,
   "id": "44119cfb",
   "metadata": {},
   "outputs": [],
   "source": [
    "token_counter = 0\n",
    "for element in q_a_openai_format[:dataset_size]:\n",
    "    for key, value in element.items():\n",
    "        token_counter+=len(value)\n",
    "    "
   ]
  },
  {
   "cell_type": "code",
   "execution_count": 67,
   "id": "14c7e484",
   "metadata": {},
   "outputs": [
    {
     "name": "stdout",
     "output_type": "stream",
     "text": [
      "There are 670548 tokens\n",
      "Fine tuning using babbage costs $0.0006 per 1000 tokens\n",
      "Estimated price: $0.4023288\n"
     ]
    }
   ],
   "source": [
    "print(f\"There are {token_counter} tokens\")\n",
    "print(f\"Fine tuning using babbage costs $0.0006 per 1000 tokens\")\n",
    "print(f\"Estimated price: ${(token_counter / 1000) * 0.0006}\")"
   ]
  },
  {
   "cell_type": "markdown",
   "id": "0167423d",
   "metadata": {},
   "source": [
    "Now head over to the terminal to fine tune the model using the following command:"
   ]
  },
  {
   "cell_type": "markdown",
   "id": "6cf552a3",
   "metadata": {},
   "source": [
    "openai api fine_tunes.create -t training_data.json -m babbage"
   ]
  },
  {
   "cell_type": "markdown",
   "id": "9441a45b",
   "metadata": {},
   "source": [
    "You can use:\n",
    "\n",
    "*openai api fine_tunes.list* to get a list of your fine tuning jobs, \n",
    "\n",
    "*openai api fine_tunes.get -i <YOUR_FINE_TUNE_JOB_ID>* to get the debug log of your fine tuning process\n"
   ]
  },
  {
   "cell_type": "code",
   "execution_count": null,
   "id": "fea97c30",
   "metadata": {},
   "outputs": [],
   "source": [
    "babbage:ft-personal-2023-02-09-13-52-20"
   ]
  },
  {
   "cell_type": "markdown",
   "id": "b1b240d4",
   "metadata": {},
   "source": [
    "After training you can extract your fine tuned model using *openai api fine_tunes.list* and copy the fine_tuned_model entry"
   ]
  },
  {
   "cell_type": "markdown",
   "id": "677cf744",
   "metadata": {},
   "source": [
    "## OpenAI API\n",
    "\n",
    "Remember to use the notebook as shown, you must set your OpenAI API Key as an environment variable. Obviously, there are many ways you could provide your API Key to the Python code, input() or even hard-coded, but those are typically not recommended for safety reasons. Having it as an environment variable let's the key live on the computer, but not actually be present in the code.\n",
    "\n",
    "### Set-up Open AI API Key\n",
    "\n",
    "We'll only need to do this once per computer"
   ]
  },
  {
   "cell_type": "code",
   "execution_count": 33,
   "id": "e865f7df",
   "metadata": {},
   "outputs": [],
   "source": [
    "# Uncomment below and swap in your key to place your environment key using Python\n",
    "# Then you can delete the key string and the code cell below will still work!\n",
    "# os.environ[\"OPENAI_API_KEY\"] = \"Your key goes here!"
   ]
  },
  {
   "cell_type": "code",
   "execution_count": 34,
   "id": "36b9fcb9",
   "metadata": {},
   "outputs": [],
   "source": [
    "openai.api_key = os.getenv(\"OPENAI_API_KEY\")"
   ]
  },
  {
   "cell_type": "code",
   "execution_count": 68,
   "id": "5a420168",
   "metadata": {},
   "outputs": [],
   "source": [
    "import openai\n",
    "response = openai.Completion.create(\n",
    "    model=\"babbage:ft-personal-2023-02-09-13-52-20\",\n",
    "    prompt=\"What are good python books?\",\n",
    "    max_tokens=128,\n",
    "    temperature=0.7,\n",
    "    top_p=1.0)\n"
   ]
  },
  {
   "cell_type": "code",
   "execution_count": 70,
   "id": "34ea8c5f",
   "metadata": {},
   "outputs": [
    {
     "name": "stdout",
     "output_type": "stream",
     "text": [
      "\n",
      "\n",
      "If you're programming in python, a good introductory book is \"Programming Python\". It covers most of the basics and has a good section on libraries.\n",
      "I'd recommend this book if you're new to python, or if you're already experienced. I'd also recommend \"Learn Python The Hard Way\" .\n",
      "\n",
      "For a more advanced book, \"Mastering Python\" is a good starting point.\n",
      "\n",
      "\"The Python Bible\" is a good reference too.\n",
      "\n",
      "Pythonista - an excellent book by Michael J. pearlman.\n",
      "\n",
      "Books also available in PDF form:\n",
      "\n",
      "\"Mastering Python\".\n"
     ]
    }
   ],
   "source": [
    "print(response[\"choices\"][0][\"text\"])"
   ]
  },
  {
   "cell_type": "code",
   "execution_count": null,
   "id": "eb8144d1",
   "metadata": {},
   "outputs": [],
   "source": []
  }
 ],
 "metadata": {
  "kernelspec": {
   "display_name": "Python 3 (ipykernel)",
   "language": "python",
   "name": "python3"
  },
  "language_info": {
   "codemirror_mode": {
    "name": "ipython",
    "version": 3
   },
   "file_extension": ".py",
   "mimetype": "text/x-python",
   "name": "python",
   "nbconvert_exporter": "python",
   "pygments_lexer": "ipython3",
   "version": "3.9.0"
  }
 },
 "nbformat": 4,
 "nbformat_minor": 5
}

{
 "cells": [
  {
   "cell_type": "code",
   "execution_count": 1,
   "id": "c0f600b3",
   "metadata": {},
   "outputs": [],
   "source": [
    "import openai"
   ]
  },
  {
   "cell_type": "code",
   "execution_count": 3,
   "id": "05c6d46b",
   "metadata": {},
   "outputs": [],
   "source": [
    "import pandas as pd\n",
    "qa_df = pd.read_csv(\"python_qa.csv\")"
   ]
  },
  {
   "cell_type": "code",
   "execution_count": 5,
   "id": "d45ac9a3",
   "metadata": {},
   "outputs": [],
   "source": [
    "questions , answers = qa_df['Body'] , qa_df['Answer']"
   ]
  },
  {
   "cell_type": "code",
   "execution_count": 7,
   "id": "f0eed4eb",
   "metadata": {},
   "outputs": [
    {
     "data": {
      "text/plain": [
       "0       I started writing up a summary of my experienc...\n",
       "1       I created a simple library to create a passwor...\n",
       "2       Yes, because of the Global Interpreter Lock (G...\n",
       "3       Python threads are good for concurrent I/O pro...\n",
       "4       I loved Dive Into Python, especially if you're...\n",
       "                              ...                        \n",
       "4424    setup\\ncreate 2 time series\\n\\nfrom StringIO i...\n",
       "4425    TLDR: It's impossible to make custom classes r...\n",
       "4426    You are not indexing. You are yielding a list;...\n",
       "4427    You can create a look up data frame from the d...\n",
       "4428    Use itertools.product within a list comprehens...\n",
       "Name: Answer, Length: 4429, dtype: object"
      ]
     },
     "execution_count": 7,
     "metadata": {},
     "output_type": "execute_result"
    }
   ],
   "source": [
    "answers"
   ]
  },
  {
   "cell_type": "code",
   "execution_count": 8,
   "id": "544e5dfd",
   "metadata": {},
   "outputs": [],
   "source": [
    "qa_openai_format = [ {\"prompt\":q,\"completion\":a} for q,a in zip(questions,answers)]"
   ]
  },
  {
   "cell_type": "code",
   "execution_count": 8,
   "id": "9de640d5",
   "metadata": {},
   "outputs": [
    {
     "ename": "NameError",
     "evalue": "name 'qa_openai_format' is not defined",
     "output_type": "error",
     "traceback": [
      "\u001b[1;31m---------------------------------------------------------------------------\u001b[0m",
      "\u001b[1;31mNameError\u001b[0m                                 Traceback (most recent call last)",
      "Input \u001b[1;32mIn [8]\u001b[0m, in \u001b[0;36m<cell line: 1>\u001b[1;34m()\u001b[0m\n\u001b[1;32m----> 1\u001b[0m \u001b[43mqa_openai_format\u001b[49m[\u001b[38;5;241m4\u001b[39m][\u001b[38;5;124m'\u001b[39m\u001b[38;5;124mprompt\u001b[39m\u001b[38;5;124m'\u001b[39m]\n",
      "\u001b[1;31mNameError\u001b[0m: name 'qa_openai_format' is not defined"
     ]
    }
   ],
   "source": [
    "qa_openai_format[4]['completion']"
   ]
  },
  {
   "cell_type": "code",
   "execution_count": 16,
   "id": "d07bcefb",
   "metadata": {},
   "outputs": [],
   "source": [
    "response = openai.Completion.create(\n",
    "            model=\"text-babbage-001\",\n",
    "            prompt = qa_openai_format[4]['prompt'],\n",
    "            max_tokens = 250,\n",
    "            temperature = 0\n",
    ")"
   ]
  },
  {
   "cell_type": "code",
   "execution_count": 17,
   "id": "90af256b",
   "metadata": {},
   "outputs": [
    {
     "name": "stdout",
     "output_type": "stream",
     "text": [
      "\n",
      "There are a few great Python books that you could consider while you are learning Python. One book that is particularly helpful is \"Python for Data Science\" by Geoffrey Hinton. This book is packed with information on data science and Python, and it is a great resource for anyone who wants to learn Python for data science purposes. Another great book to consider is \"Python for Data Science Mastery\" by Michael Nielsen. This book is designed to help you learn more about data science and Python, and it is a great resource for anyone who wants to learn more about Python for data science purposes.\n"
     ]
    }
   ],
   "source": [
    "print(response['choices'][0]['text'])"
   ]
  },
  {
   "cell_type": "code",
   "execution_count": 19,
   "id": "14fd2978",
   "metadata": {},
   "outputs": [],
   "source": [
    "# !pip install tiktoken"
   ]
  },
  {
   "cell_type": "code",
   "execution_count": 20,
   "id": "47511410",
   "metadata": {},
   "outputs": [],
   "source": [
    "import tiktoken"
   ]
  },
  {
   "cell_type": "code",
   "execution_count": 21,
   "id": "d34c6e42",
   "metadata": {},
   "outputs": [],
   "source": [
    "def num_tokens_from_string(string,encoding_name): #'gpt2'\n",
    "    encoding = tiktoken.get_encoding(encoding_name)\n",
    "    num_tokens = len(encoding.encode(string))\n",
    "    return num_tokens"
   ]
  },
  {
   "cell_type": "code",
   "execution_count": 22,
   "id": "4f71aaef",
   "metadata": {},
   "outputs": [
    {
     "data": {
      "text/plain": [
       "4429"
      ]
     },
     "execution_count": 22,
     "metadata": {},
     "output_type": "execute_result"
    }
   ],
   "source": [
    "len(qa_df)"
   ]
  },
  {
   "cell_type": "code",
   "execution_count": 23,
   "id": "3d4bca28",
   "metadata": {},
   "outputs": [],
   "source": [
    "dataset_size = 500 #4429"
   ]
  },
  {
   "cell_type": "code",
   "execution_count": 24,
   "id": "c3569f9c",
   "metadata": {},
   "outputs": [],
   "source": [
    "import json\n",
    "\n",
    "with open(\"example_training_data.json\",\"w\") as f:\n",
    "    for entry in qa_openai_format[:dataset_size]:\n",
    "        f.write(json.dumps(entry))\n",
    "        f.write('\\n')"
   ]
  },
  {
   "cell_type": "code",
   "execution_count": 31,
   "id": "2327aa0c",
   "metadata": {},
   "outputs": [],
   "source": [
    "token_counter = 0\n",
    "\n",
    "for prompt_completion in qa_openai_format[:500]:\n",
    "    for prompt,completion in element.items():\n",
    "        token_counter += num_tokens_from_string(prompt,'gpt2')\n",
    "        token_counter += num_tokens_from_string(completion,'gpt2')"
   ]
  },
  {
   "cell_type": "code",
   "execution_count": 32,
   "id": "04456d5c",
   "metadata": {},
   "outputs": [
    {
     "data": {
      "text/plain": [
       "117500"
      ]
     },
     "execution_count": 32,
     "metadata": {},
     "output_type": "execute_result"
    }
   ],
   "source": [
    "token_counter # $0.0006 per 1000 tokens (training) * 4 epochs"
   ]
  },
  {
   "cell_type": "code",
   "execution_count": 33,
   "id": "dfecaecb",
   "metadata": {},
   "outputs": [
    {
     "data": {
      "text/plain": [
       "0.282"
      ]
     },
     "execution_count": 33,
     "metadata": {},
     "output_type": "execute_result"
    }
   ],
   "source": [
    "0.0006*4*token_counter/1000"
   ]
  },
  {
   "cell_type": "code",
   "execution_count": 2,
   "id": "7e711a94",
   "metadata": {},
   "outputs": [],
   "source": [
    "fine_tuned_model = \"babbage:ft-pierian-training-2023-02-13-08-01-05\""
   ]
  },
  {
   "cell_type": "code",
   "execution_count": 13,
   "id": "7f19a89d",
   "metadata": {},
   "outputs": [],
   "source": [
    "response = openai.Completion.create(\n",
    "        model=fine_tuned_model,\n",
    "        prompt=\"What are good Python books?\",\n",
    "        max_tokens=128\n",
    ")"
   ]
  },
  {
   "cell_type": "code",
   "execution_count": 14,
   "id": "9268ebed",
   "metadata": {},
   "outputs": [
    {
     "name": "stdout",
     "output_type": "stream",
     "text": [
      " In my adventures patching the world I pick up stuff all the time (sometimes on my own) - after all someone had to carry the book. But mainly I go to conferences and libraries and read the more frequently released \"lite\" books. Pyrit's resource list looks pretty good:\n",
      "\n",
      "If you're on a budget and don't want to read a big tome, a few good lighter reading choices are Python Cookbook by masculinity (Who wrote that, by the way?), Lighter Side of Python by Dan \"Binaries man\" Szymshank, and Python in a Nutshell by Jeffrey Smiley.\n"
     ]
    }
   ],
   "source": [
    "print(response['choices'][0]['text'])"
   ]
  },
  {
   "cell_type": "code",
   "execution_count": null,
   "id": "aa1eac81",
   "metadata": {},
   "outputs": [],
   "source": []
  }
 ],
 "metadata": {
  "kernelspec": {
   "display_name": "Python 3 (ipykernel)",
   "language": "python",
   "name": "python3"
  },
  "language_info": {
   "codemirror_mode": {
    "name": "ipython",
    "version": 3
   },
   "file_extension": ".py",
   "mimetype": "text/x-python",
   "name": "python",
   "nbconvert_exporter": "python",
   "pygments_lexer": "ipython3",
   "version": "3.9.12"
  }
 },
 "nbformat": 4,
 "nbformat_minor": 5
}

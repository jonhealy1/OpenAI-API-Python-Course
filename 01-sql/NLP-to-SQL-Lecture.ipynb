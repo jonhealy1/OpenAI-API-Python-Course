{
 "cells": [
  {
   "cell_type": "markdown",
   "id": "c193ed1f",
   "metadata": {},
   "source": [
    "<a href = \"https://www.pieriantraining.com\"><img src=\"../PT Centered Purple.png\"> </a>\n",
    "\n",
    "<em style=\"text-align:center\">Copyrighted by Pierian Training</em>"
   ]
  },
  {
   "cell_type": "markdown",
   "id": "93b5c4c8",
   "metadata": {},
   "source": [
    "# NLP to SQL Project\n",
    "\n",
    "In this project, we'll develop a start-up that can take a non-technical manager's Natural Language question, such as \"What counties had the top sales?\" and convert that into a SQL query. We will then use that SQL to query the data (which in this example will come from a .csv file we read in with Pandas and set-up a temporary DB in RAM) and then report back the results!\n",
    "\n",
    "## Imports"
   ]
  },
  {
   "cell_type": "code",
   "execution_count": 1,
   "id": "be2c12ae",
   "metadata": {},
   "outputs": [],
   "source": [
    "import os\n",
    "import pandas as pd\n",
    "import openai\n"
   ]
  },
  {
   "cell_type": "markdown",
   "id": "2274bcc8",
   "metadata": {},
   "source": [
    "## Data\n",
    "\n",
    "\n",
    "Our data will be some example Sales Data from:  https://www.kaggle.com/datasets/kyanyoga/sample-sales-data\n",
    "\n",
    "We've already downloaded the dataset for you as \"sales_data_sample.csv\".\n",
    "\n",
    "Let's read it in:"
   ]
  },
  {
   "cell_type": "code",
   "execution_count": 2,
   "id": "773b2398",
   "metadata": {},
   "outputs": [],
   "source": [
    "df = pd.read_csv(\"sales_data_sample.csv\")"
   ]
  },
  {
   "cell_type": "code",
   "execution_count": 4,
   "id": "9a0e77bc",
   "metadata": {},
   "outputs": [
    {
     "data": {
      "text/html": [
       "<div>\n",
       "<style scoped>\n",
       "    .dataframe tbody tr th:only-of-type {\n",
       "        vertical-align: middle;\n",
       "    }\n",
       "\n",
       "    .dataframe tbody tr th {\n",
       "        vertical-align: top;\n",
       "    }\n",
       "\n",
       "    .dataframe thead th {\n",
       "        text-align: right;\n",
       "    }\n",
       "</style>\n",
       "<table border=\"1\" class=\"dataframe\">\n",
       "  <thead>\n",
       "    <tr style=\"text-align: right;\">\n",
       "      <th></th>\n",
       "      <th>ORDERNUMBER</th>\n",
       "      <th>QUANTITYORDERED</th>\n",
       "      <th>PRICEEACH</th>\n",
       "      <th>ORDERLINENUMBER</th>\n",
       "      <th>SALES</th>\n",
       "      <th>ORDERDATE</th>\n",
       "      <th>STATUS</th>\n",
       "      <th>QTR_ID</th>\n",
       "      <th>MONTH_ID</th>\n",
       "      <th>YEAR_ID</th>\n",
       "      <th>...</th>\n",
       "      <th>ADDRESSLINE1</th>\n",
       "      <th>ADDRESSLINE2</th>\n",
       "      <th>CITY</th>\n",
       "      <th>STATE</th>\n",
       "      <th>POSTALCODE</th>\n",
       "      <th>COUNTRY</th>\n",
       "      <th>TERRITORY</th>\n",
       "      <th>CONTACTLASTNAME</th>\n",
       "      <th>CONTACTFIRSTNAME</th>\n",
       "      <th>DEALSIZE</th>\n",
       "    </tr>\n",
       "  </thead>\n",
       "  <tbody>\n",
       "    <tr>\n",
       "      <th>0</th>\n",
       "      <td>10107</td>\n",
       "      <td>30</td>\n",
       "      <td>95.70</td>\n",
       "      <td>2</td>\n",
       "      <td>2871.00</td>\n",
       "      <td>2/24/2003 0:00</td>\n",
       "      <td>Shipped</td>\n",
       "      <td>1</td>\n",
       "      <td>2</td>\n",
       "      <td>2003</td>\n",
       "      <td>...</td>\n",
       "      <td>897 Long Airport Avenue</td>\n",
       "      <td>NaN</td>\n",
       "      <td>NYC</td>\n",
       "      <td>NY</td>\n",
       "      <td>10022</td>\n",
       "      <td>USA</td>\n",
       "      <td>NaN</td>\n",
       "      <td>Yu</td>\n",
       "      <td>Kwai</td>\n",
       "      <td>Small</td>\n",
       "    </tr>\n",
       "    <tr>\n",
       "      <th>1</th>\n",
       "      <td>10121</td>\n",
       "      <td>34</td>\n",
       "      <td>81.35</td>\n",
       "      <td>5</td>\n",
       "      <td>2765.90</td>\n",
       "      <td>5/7/2003 0:00</td>\n",
       "      <td>Shipped</td>\n",
       "      <td>2</td>\n",
       "      <td>5</td>\n",
       "      <td>2003</td>\n",
       "      <td>...</td>\n",
       "      <td>59 rue de l'Abbaye</td>\n",
       "      <td>NaN</td>\n",
       "      <td>Reims</td>\n",
       "      <td>NaN</td>\n",
       "      <td>51100</td>\n",
       "      <td>France</td>\n",
       "      <td>EMEA</td>\n",
       "      <td>Henriot</td>\n",
       "      <td>Paul</td>\n",
       "      <td>Small</td>\n",
       "    </tr>\n",
       "    <tr>\n",
       "      <th>2</th>\n",
       "      <td>10134</td>\n",
       "      <td>41</td>\n",
       "      <td>94.74</td>\n",
       "      <td>2</td>\n",
       "      <td>3884.34</td>\n",
       "      <td>7/1/2003 0:00</td>\n",
       "      <td>Shipped</td>\n",
       "      <td>3</td>\n",
       "      <td>7</td>\n",
       "      <td>2003</td>\n",
       "      <td>...</td>\n",
       "      <td>27 rue du Colonel Pierre Avia</td>\n",
       "      <td>NaN</td>\n",
       "      <td>Paris</td>\n",
       "      <td>NaN</td>\n",
       "      <td>75508</td>\n",
       "      <td>France</td>\n",
       "      <td>EMEA</td>\n",
       "      <td>Da Cunha</td>\n",
       "      <td>Daniel</td>\n",
       "      <td>Medium</td>\n",
       "    </tr>\n",
       "    <tr>\n",
       "      <th>3</th>\n",
       "      <td>10145</td>\n",
       "      <td>45</td>\n",
       "      <td>83.26</td>\n",
       "      <td>6</td>\n",
       "      <td>3746.70</td>\n",
       "      <td>8/25/2003 0:00</td>\n",
       "      <td>Shipped</td>\n",
       "      <td>3</td>\n",
       "      <td>8</td>\n",
       "      <td>2003</td>\n",
       "      <td>...</td>\n",
       "      <td>78934 Hillside Dr.</td>\n",
       "      <td>NaN</td>\n",
       "      <td>Pasadena</td>\n",
       "      <td>CA</td>\n",
       "      <td>90003</td>\n",
       "      <td>USA</td>\n",
       "      <td>NaN</td>\n",
       "      <td>Young</td>\n",
       "      <td>Julie</td>\n",
       "      <td>Medium</td>\n",
       "    </tr>\n",
       "    <tr>\n",
       "      <th>4</th>\n",
       "      <td>10159</td>\n",
       "      <td>49</td>\n",
       "      <td>100.00</td>\n",
       "      <td>14</td>\n",
       "      <td>5205.27</td>\n",
       "      <td>10/10/2003 0:00</td>\n",
       "      <td>Shipped</td>\n",
       "      <td>4</td>\n",
       "      <td>10</td>\n",
       "      <td>2003</td>\n",
       "      <td>...</td>\n",
       "      <td>7734 Strong St.</td>\n",
       "      <td>NaN</td>\n",
       "      <td>San Francisco</td>\n",
       "      <td>CA</td>\n",
       "      <td>NaN</td>\n",
       "      <td>USA</td>\n",
       "      <td>NaN</td>\n",
       "      <td>Brown</td>\n",
       "      <td>Julie</td>\n",
       "      <td>Medium</td>\n",
       "    </tr>\n",
       "    <tr>\n",
       "      <th>...</th>\n",
       "      <td>...</td>\n",
       "      <td>...</td>\n",
       "      <td>...</td>\n",
       "      <td>...</td>\n",
       "      <td>...</td>\n",
       "      <td>...</td>\n",
       "      <td>...</td>\n",
       "      <td>...</td>\n",
       "      <td>...</td>\n",
       "      <td>...</td>\n",
       "      <td>...</td>\n",
       "      <td>...</td>\n",
       "      <td>...</td>\n",
       "      <td>...</td>\n",
       "      <td>...</td>\n",
       "      <td>...</td>\n",
       "      <td>...</td>\n",
       "      <td>...</td>\n",
       "      <td>...</td>\n",
       "      <td>...</td>\n",
       "      <td>...</td>\n",
       "    </tr>\n",
       "    <tr>\n",
       "      <th>2818</th>\n",
       "      <td>10350</td>\n",
       "      <td>20</td>\n",
       "      <td>100.00</td>\n",
       "      <td>15</td>\n",
       "      <td>2244.40</td>\n",
       "      <td>12/2/2004 0:00</td>\n",
       "      <td>Shipped</td>\n",
       "      <td>4</td>\n",
       "      <td>12</td>\n",
       "      <td>2004</td>\n",
       "      <td>...</td>\n",
       "      <td>C/ Moralzarzal, 86</td>\n",
       "      <td>NaN</td>\n",
       "      <td>Madrid</td>\n",
       "      <td>NaN</td>\n",
       "      <td>28034</td>\n",
       "      <td>Spain</td>\n",
       "      <td>EMEA</td>\n",
       "      <td>Freyre</td>\n",
       "      <td>Diego</td>\n",
       "      <td>Small</td>\n",
       "    </tr>\n",
       "    <tr>\n",
       "      <th>2819</th>\n",
       "      <td>10373</td>\n",
       "      <td>29</td>\n",
       "      <td>100.00</td>\n",
       "      <td>1</td>\n",
       "      <td>3978.51</td>\n",
       "      <td>1/31/2005 0:00</td>\n",
       "      <td>Shipped</td>\n",
       "      <td>1</td>\n",
       "      <td>1</td>\n",
       "      <td>2005</td>\n",
       "      <td>...</td>\n",
       "      <td>Torikatu 38</td>\n",
       "      <td>NaN</td>\n",
       "      <td>Oulu</td>\n",
       "      <td>NaN</td>\n",
       "      <td>90110</td>\n",
       "      <td>Finland</td>\n",
       "      <td>EMEA</td>\n",
       "      <td>Koskitalo</td>\n",
       "      <td>Pirkko</td>\n",
       "      <td>Medium</td>\n",
       "    </tr>\n",
       "    <tr>\n",
       "      <th>2820</th>\n",
       "      <td>10386</td>\n",
       "      <td>43</td>\n",
       "      <td>100.00</td>\n",
       "      <td>4</td>\n",
       "      <td>5417.57</td>\n",
       "      <td>3/1/2005 0:00</td>\n",
       "      <td>Resolved</td>\n",
       "      <td>1</td>\n",
       "      <td>3</td>\n",
       "      <td>2005</td>\n",
       "      <td>...</td>\n",
       "      <td>C/ Moralzarzal, 86</td>\n",
       "      <td>NaN</td>\n",
       "      <td>Madrid</td>\n",
       "      <td>NaN</td>\n",
       "      <td>28034</td>\n",
       "      <td>Spain</td>\n",
       "      <td>EMEA</td>\n",
       "      <td>Freyre</td>\n",
       "      <td>Diego</td>\n",
       "      <td>Medium</td>\n",
       "    </tr>\n",
       "    <tr>\n",
       "      <th>2821</th>\n",
       "      <td>10397</td>\n",
       "      <td>34</td>\n",
       "      <td>62.24</td>\n",
       "      <td>1</td>\n",
       "      <td>2116.16</td>\n",
       "      <td>3/28/2005 0:00</td>\n",
       "      <td>Shipped</td>\n",
       "      <td>1</td>\n",
       "      <td>3</td>\n",
       "      <td>2005</td>\n",
       "      <td>...</td>\n",
       "      <td>1 rue Alsace-Lorraine</td>\n",
       "      <td>NaN</td>\n",
       "      <td>Toulouse</td>\n",
       "      <td>NaN</td>\n",
       "      <td>31000</td>\n",
       "      <td>France</td>\n",
       "      <td>EMEA</td>\n",
       "      <td>Roulet</td>\n",
       "      <td>Annette</td>\n",
       "      <td>Small</td>\n",
       "    </tr>\n",
       "    <tr>\n",
       "      <th>2822</th>\n",
       "      <td>10414</td>\n",
       "      <td>47</td>\n",
       "      <td>65.52</td>\n",
       "      <td>9</td>\n",
       "      <td>3079.44</td>\n",
       "      <td>5/6/2005 0:00</td>\n",
       "      <td>On Hold</td>\n",
       "      <td>2</td>\n",
       "      <td>5</td>\n",
       "      <td>2005</td>\n",
       "      <td>...</td>\n",
       "      <td>8616 Spinnaker Dr.</td>\n",
       "      <td>NaN</td>\n",
       "      <td>Boston</td>\n",
       "      <td>MA</td>\n",
       "      <td>51003</td>\n",
       "      <td>USA</td>\n",
       "      <td>NaN</td>\n",
       "      <td>Yoshido</td>\n",
       "      <td>Juri</td>\n",
       "      <td>Medium</td>\n",
       "    </tr>\n",
       "  </tbody>\n",
       "</table>\n",
       "<p>2823 rows × 25 columns</p>\n",
       "</div>"
      ],
      "text/plain": [
       "      ORDERNUMBER  QUANTITYORDERED  PRICEEACH  ORDERLINENUMBER    SALES  \\\n",
       "0           10107               30      95.70                2  2871.00   \n",
       "1           10121               34      81.35                5  2765.90   \n",
       "2           10134               41      94.74                2  3884.34   \n",
       "3           10145               45      83.26                6  3746.70   \n",
       "4           10159               49     100.00               14  5205.27   \n",
       "...           ...              ...        ...              ...      ...   \n",
       "2818        10350               20     100.00               15  2244.40   \n",
       "2819        10373               29     100.00                1  3978.51   \n",
       "2820        10386               43     100.00                4  5417.57   \n",
       "2821        10397               34      62.24                1  2116.16   \n",
       "2822        10414               47      65.52                9  3079.44   \n",
       "\n",
       "            ORDERDATE    STATUS  QTR_ID  MONTH_ID  YEAR_ID  ...  \\\n",
       "0      2/24/2003 0:00   Shipped       1         2     2003  ...   \n",
       "1       5/7/2003 0:00   Shipped       2         5     2003  ...   \n",
       "2       7/1/2003 0:00   Shipped       3         7     2003  ...   \n",
       "3      8/25/2003 0:00   Shipped       3         8     2003  ...   \n",
       "4     10/10/2003 0:00   Shipped       4        10     2003  ...   \n",
       "...               ...       ...     ...       ...      ...  ...   \n",
       "2818   12/2/2004 0:00   Shipped       4        12     2004  ...   \n",
       "2819   1/31/2005 0:00   Shipped       1         1     2005  ...   \n",
       "2820    3/1/2005 0:00  Resolved       1         3     2005  ...   \n",
       "2821   3/28/2005 0:00   Shipped       1         3     2005  ...   \n",
       "2822    5/6/2005 0:00   On Hold       2         5     2005  ...   \n",
       "\n",
       "                       ADDRESSLINE1  ADDRESSLINE2           CITY STATE  \\\n",
       "0           897 Long Airport Avenue           NaN            NYC    NY   \n",
       "1                59 rue de l'Abbaye           NaN          Reims   NaN   \n",
       "2     27 rue du Colonel Pierre Avia           NaN          Paris   NaN   \n",
       "3                78934 Hillside Dr.           NaN       Pasadena    CA   \n",
       "4                   7734 Strong St.           NaN  San Francisco    CA   \n",
       "...                             ...           ...            ...   ...   \n",
       "2818             C/ Moralzarzal, 86           NaN         Madrid   NaN   \n",
       "2819                    Torikatu 38           NaN           Oulu   NaN   \n",
       "2820             C/ Moralzarzal, 86           NaN         Madrid   NaN   \n",
       "2821          1 rue Alsace-Lorraine           NaN       Toulouse   NaN   \n",
       "2822             8616 Spinnaker Dr.           NaN         Boston    MA   \n",
       "\n",
       "     POSTALCODE  COUNTRY TERRITORY CONTACTLASTNAME CONTACTFIRSTNAME DEALSIZE  \n",
       "0         10022      USA       NaN              Yu             Kwai    Small  \n",
       "1         51100   France      EMEA         Henriot             Paul    Small  \n",
       "2         75508   France      EMEA        Da Cunha           Daniel   Medium  \n",
       "3         90003      USA       NaN           Young            Julie   Medium  \n",
       "4           NaN      USA       NaN           Brown            Julie   Medium  \n",
       "...         ...      ...       ...             ...              ...      ...  \n",
       "2818      28034    Spain      EMEA          Freyre            Diego    Small  \n",
       "2819      90110  Finland      EMEA       Koskitalo           Pirkko   Medium  \n",
       "2820      28034    Spain      EMEA          Freyre            Diego   Medium  \n",
       "2821      31000   France      EMEA          Roulet          Annette    Small  \n",
       "2822      51003      USA       NaN         Yoshido             Juri   Medium  \n",
       "\n",
       "[2823 rows x 25 columns]"
      ]
     },
     "execution_count": 4,
     "metadata": {},
     "output_type": "execute_result"
    }
   ],
   "source": [
    "df"
   ]
  },
  {
   "cell_type": "markdown",
   "id": "207558e7",
   "metadata": {},
   "source": [
    "## Querying Data\n",
    "\n",
    "We can query via Pandas Syntax:"
   ]
  },
  {
   "cell_type": "code",
   "execution_count": 5,
   "id": "e5d65e9f",
   "metadata": {},
   "outputs": [
    {
     "data": {
      "text/html": [
       "<div>\n",
       "<style scoped>\n",
       "    .dataframe tbody tr th:only-of-type {\n",
       "        vertical-align: middle;\n",
       "    }\n",
       "\n",
       "    .dataframe tbody tr th {\n",
       "        vertical-align: top;\n",
       "    }\n",
       "\n",
       "    .dataframe thead th {\n",
       "        text-align: right;\n",
       "    }\n",
       "</style>\n",
       "<table border=\"1\" class=\"dataframe\">\n",
       "  <thead>\n",
       "    <tr style=\"text-align: right;\">\n",
       "      <th></th>\n",
       "      <th>ORDERNUMBER</th>\n",
       "      <th>QUANTITYORDERED</th>\n",
       "      <th>PRICEEACH</th>\n",
       "      <th>ORDERLINENUMBER</th>\n",
       "      <th>SALES</th>\n",
       "      <th>MONTH_ID</th>\n",
       "      <th>YEAR_ID</th>\n",
       "      <th>MSRP</th>\n",
       "    </tr>\n",
       "    <tr>\n",
       "      <th>QTR_ID</th>\n",
       "      <th></th>\n",
       "      <th></th>\n",
       "      <th></th>\n",
       "      <th></th>\n",
       "      <th></th>\n",
       "      <th></th>\n",
       "      <th></th>\n",
       "      <th></th>\n",
       "    </tr>\n",
       "  </thead>\n",
       "  <tbody>\n",
       "    <tr>\n",
       "      <th>1</th>\n",
       "      <td>6829804</td>\n",
       "      <td>23485</td>\n",
       "      <td>55446.88</td>\n",
       "      <td>4300</td>\n",
       "      <td>2350817.73</td>\n",
       "      <td>1313</td>\n",
       "      <td>1332832</td>\n",
       "      <td>66644</td>\n",
       "    </tr>\n",
       "    <tr>\n",
       "      <th>2</th>\n",
       "      <td>5758370</td>\n",
       "      <td>20316</td>\n",
       "      <td>46774.20</td>\n",
       "      <td>3283</td>\n",
       "      <td>2048120.30</td>\n",
       "      <td>2758</td>\n",
       "      <td>1124258</td>\n",
       "      <td>56037</td>\n",
       "    </tr>\n",
       "    <tr>\n",
       "      <th>3</th>\n",
       "      <td>5146508</td>\n",
       "      <td>17118</td>\n",
       "      <td>42357.76</td>\n",
       "      <td>3357</td>\n",
       "      <td>1758910.81</td>\n",
       "      <td>4054</td>\n",
       "      <td>1007828</td>\n",
       "      <td>51187</td>\n",
       "    </tr>\n",
       "    <tr>\n",
       "      <th>4</th>\n",
       "      <td>11225699</td>\n",
       "      <td>38148</td>\n",
       "      <td>91589.23</td>\n",
       "      <td>7314</td>\n",
       "      <td>3874780.01</td>\n",
       "      <td>11897</td>\n",
       "      <td>2191852</td>\n",
       "      <td>110452</td>\n",
       "    </tr>\n",
       "  </tbody>\n",
       "</table>\n",
       "</div>"
      ],
      "text/plain": [
       "        ORDERNUMBER  QUANTITYORDERED  PRICEEACH  ORDERLINENUMBER       SALES  \\\n",
       "QTR_ID                                                                         \n",
       "1           6829804            23485   55446.88             4300  2350817.73   \n",
       "2           5758370            20316   46774.20             3283  2048120.30   \n",
       "3           5146508            17118   42357.76             3357  1758910.81   \n",
       "4          11225699            38148   91589.23             7314  3874780.01   \n",
       "\n",
       "        MONTH_ID  YEAR_ID    MSRP  \n",
       "QTR_ID                             \n",
       "1           1313  1332832   66644  \n",
       "2           2758  1124258   56037  \n",
       "3           4054  1007828   51187  \n",
       "4          11897  2191852  110452  "
      ]
     },
     "execution_count": 5,
     "metadata": {},
     "output_type": "execute_result"
    }
   ],
   "source": [
    "# Example Pandas Query for Sum of Sales by Quarter \n",
    "df.groupby(\"QTR_ID\").sum(\"SALES\")"
   ]
  },
  {
   "cell_type": "markdown",
   "id": "3c5cbb58",
   "metadata": {},
   "source": [
    "\n",
    "Or we can query via SQL Syntax, let's set-up a temporary in memory (RAM) database, basically export this CSV-->Pandas DF--> SQL DB"
   ]
  },
  {
   "cell_type": "markdown",
   "id": "770bc122",
   "metadata": {},
   "source": [
    "## SQL Database Set-up"
   ]
  },
  {
   "cell_type": "code",
   "execution_count": 9,
   "id": "4d823bc7",
   "metadata": {},
   "outputs": [],
   "source": [
    "from sqlalchemy import create_engine\n",
    "from sqlalchemy import text"
   ]
  },
  {
   "cell_type": "code",
   "execution_count": 10,
   "id": "b56675da",
   "metadata": {},
   "outputs": [],
   "source": [
    "temp_db = create_engine('sqlite:///:memory:', echo=True)"
   ]
  },
  {
   "cell_type": "markdown",
   "id": "084ab8ab",
   "metadata": {},
   "source": [
    "Here we push our entire DataFrame to a table called Sales:"
   ]
  },
  {
   "cell_type": "code",
   "execution_count": 11,
   "id": "5f0963b2",
   "metadata": {
    "scrolled": true
   },
   "outputs": [
    {
     "name": "stdout",
     "output_type": "stream",
     "text": [
      "2023-01-16 18:32:59,618 INFO sqlalchemy.engine.Engine PRAGMA main.table_info(\"Sales\")\n",
      "2023-01-16 18:32:59,618 INFO sqlalchemy.engine.Engine [raw sql] ()\n",
      "2023-01-16 18:32:59,619 INFO sqlalchemy.engine.Engine PRAGMA temp.table_info(\"Sales\")\n",
      "2023-01-16 18:32:59,619 INFO sqlalchemy.engine.Engine [raw sql] ()\n",
      "2023-01-16 18:32:59,622 INFO sqlalchemy.engine.Engine BEGIN (implicit)\n",
      "2023-01-16 18:32:59,623 INFO sqlalchemy.engine.Engine \n",
      "CREATE TABLE \"Sales\" (\n",
      "\t\"index\" BIGINT, \n",
      "\t\"ORDERNUMBER\" BIGINT, \n",
      "\t\"QUANTITYORDERED\" BIGINT, \n",
      "\t\"PRICEEACH\" FLOAT, \n",
      "\t\"ORDERLINENUMBER\" BIGINT, \n",
      "\t\"SALES\" FLOAT, \n",
      "\t\"ORDERDATE\" TEXT, \n",
      "\t\"STATUS\" TEXT, \n",
      "\t\"QTR_ID\" BIGINT, \n",
      "\t\"MONTH_ID\" BIGINT, \n",
      "\t\"YEAR_ID\" BIGINT, \n",
      "\t\"PRODUCTLINE\" TEXT, \n",
      "\t\"MSRP\" BIGINT, \n",
      "\t\"PRODUCTCODE\" TEXT, \n",
      "\t\"CUSTOMERNAME\" TEXT, \n",
      "\t\"PHONE\" TEXT, \n",
      "\t\"ADDRESSLINE1\" TEXT, \n",
      "\t\"ADDRESSLINE2\" TEXT, \n",
      "\t\"CITY\" TEXT, \n",
      "\t\"STATE\" TEXT, \n",
      "\t\"POSTALCODE\" TEXT, \n",
      "\t\"COUNTRY\" TEXT, \n",
      "\t\"TERRITORY\" TEXT, \n",
      "\t\"CONTACTLASTNAME\" TEXT, \n",
      "\t\"CONTACTFIRSTNAME\" TEXT, \n",
      "\t\"DEALSIZE\" TEXT\n",
      ")\n",
      "\n",
      "\n",
      "2023-01-16 18:32:59,624 INFO sqlalchemy.engine.Engine [no key 0.00042s] ()\n",
      "2023-01-16 18:32:59,625 INFO sqlalchemy.engine.Engine CREATE INDEX \"ix_Sales_index\" ON \"Sales\" (\"index\")\n",
      "2023-01-16 18:32:59,625 INFO sqlalchemy.engine.Engine [no key 0.00045s] ()\n",
      "2023-01-16 18:32:59,626 INFO sqlalchemy.engine.Engine COMMIT\n",
      "2023-01-16 18:32:59,631 INFO sqlalchemy.engine.Engine BEGIN (implicit)\n",
      "2023-01-16 18:32:59,663 INFO sqlalchemy.engine.Engine INSERT INTO \"Sales\" (\"index\", \"ORDERNUMBER\", \"QUANTITYORDERED\", \"PRICEEACH\", \"ORDERLINENUMBER\", \"SALES\", \"ORDERDATE\", \"STATUS\", \"QTR_ID\", \"MONTH_ID\", \"YEAR_ID\", \"PRODUCTLINE\", \"MSRP\", \"PRODUCTCODE\", \"CUSTOMERNAME\", \"PHONE\", \"ADDRESSLINE1\", \"ADDRESSLINE2\", \"CITY\", \"STATE\", \"POSTALCODE\", \"COUNTRY\", \"TERRITORY\", \"CONTACTLASTNAME\", \"CONTACTFIRSTNAME\", \"DEALSIZE\") VALUES (?, ?, ?, ?, ?, ?, ?, ?, ?, ?, ?, ?, ?, ?, ?, ?, ?, ?, ?, ?, ?, ?, ?, ?, ?, ?)\n",
      "2023-01-16 18:32:59,664 INFO sqlalchemy.engine.Engine [generated in 0.02541s] ((0, 10107, 30, 95.7, 2, 2871.0, '2/24/2003 0:00', 'Shipped', 1, 2, 2003, 'Motorcycles', 95, 'S10_1678', 'Land of Toys Inc.', '2125557818', '897 Long Airport Avenue', None, 'NYC', 'NY', '10022', 'USA', None, 'Yu', 'Kwai', 'Small'), (1, 10121, 34, 81.35, 5, 2765.9, '5/7/2003 0:00', 'Shipped', 2, 5, 2003, 'Motorcycles', 95, 'S10_1678', 'Reims Collectables', '26.47.1555', \"59 rue de l'Abbaye\", None, 'Reims', None, '51100', 'France', 'EMEA', 'Henriot', 'Paul', 'Small'), (2, 10134, 41, 94.74, 2, 3884.34, '7/1/2003 0:00', 'Shipped', 3, 7, 2003, 'Motorcycles', 95, 'S10_1678', 'Lyon Souveniers', '+33 1 46 62 7555', '27 rue du Colonel Pierre Avia', None, 'Paris', None, '75508', 'France', 'EMEA', 'Da Cunha', 'Daniel', 'Medium'), (3, 10145, 45, 83.26, 6, 3746.7, '8/25/2003 0:00', 'Shipped', 3, 8, 2003, 'Motorcycles', 95, 'S10_1678', 'Toys4GrownUps.com', '6265557265', '78934 Hillside Dr.', None, 'Pasadena', 'CA', '90003', 'USA', None, 'Young', 'Julie', 'Medium'), (4, 10159, 49, 100.0, 14, 5205.27, '10/10/2003 0:00', 'Shipped', 4, 10, 2003, 'Motorcycles', 95, 'S10_1678', 'Corporate Gift Ideas Co.', '6505551386', '7734 Strong St.', None, 'San Francisco', 'CA', None, 'USA', None, 'Brown', 'Julie', 'Medium'), (5, 10168, 36, 96.66, 1, 3479.76, '10/28/2003 0:00', 'Shipped', 4, 10, 2003, 'Motorcycles', 95, 'S10_1678', 'Technics Stores Inc.', '6505556809', '9408 Furth Circle', None, 'Burlingame', 'CA', '94217', 'USA', None, 'Hirano', 'Juri', 'Medium'), (6, 10180, 29, 86.13, 9, 2497.77, '11/11/2003 0:00', 'Shipped', 4, 11, 2003, 'Motorcycles', 95, 'S10_1678', 'Daedalus Designs Imports', '20.16.1555', '184, chausse de Tournai', None, 'Lille', None, '59000', 'France', 'EMEA', 'Rance', 'Martine', 'Small'), (7, 10188, 48, 100.0, 1, 5512.32, '11/18/2003 0:00', 'Shipped', 4, 11, 2003, 'Motorcycles', 95, 'S10_1678', 'Herkku Gifts', '+47 2267 3215', 'Drammen 121, PR 744 Sentrum', None, 'Bergen', None, 'N 5804', 'Norway', 'EMEA', 'Oeztan', 'Veysel', 'Medium')  ... displaying 10 of 2823 total bound parameter sets ...  (2821, 10397, 34, 62.24, 1, 2116.16, '3/28/2005 0:00', 'Shipped', 1, 3, 2005, 'Ships', 54, 'S72_3212', 'Alpha Cognac', '61.77.6555', '1 rue Alsace-Lorraine', None, 'Toulouse', None, '31000', 'France', 'EMEA', 'Roulet', 'Annette', 'Small'), (2822, 10414, 47, 65.52, 9, 3079.44, '5/6/2005 0:00', 'On Hold', 2, 5, 2005, 'Ships', 54, 'S72_3212', 'Gifts4AllAges.com', '6175559555', '8616 Spinnaker Dr.', None, 'Boston', 'MA', '51003', 'USA', None, 'Yoshido', 'Juri', 'Medium'))\n",
      "2023-01-16 18:32:59,680 INFO sqlalchemy.engine.Engine COMMIT\n",
      "2023-01-16 18:32:59,681 INFO sqlalchemy.engine.Engine SELECT name FROM sqlite_master WHERE type='table' ORDER BY name\n",
      "2023-01-16 18:32:59,682 INFO sqlalchemy.engine.Engine [raw sql] ()\n"
     ]
    }
   ],
   "source": [
    "data = df.to_sql(name='Sales',con=temp_db)\n"
   ]
  },
  {
   "cell_type": "markdown",
   "id": "6be4b38d",
   "metadata": {},
   "source": [
    "---\n",
    "\n",
    "Notice the output above reports some of the SQL commands to create the table as well as the data that went into it.\n",
    "\n",
    "### Connecting to SQL Database:"
   ]
  },
  {
   "cell_type": "markdown",
   "id": "b0666d7e",
   "metadata": {},
   "source": [
    "Using SQL Alchemy we can establish a connection to this temporary database and query it for the results:"
   ]
  },
  {
   "cell_type": "code",
   "execution_count": 12,
   "id": "a0c2c22a",
   "metadata": {},
   "outputs": [
    {
     "name": "stdout",
     "output_type": "stream",
     "text": [
      "2023-01-16 18:33:05,371 INFO sqlalchemy.engine.Engine Select ORDERNUMBER, SALES from Sales ORDER BY SALES DESC LIMIT 1\n",
      "2023-01-16 18:33:05,372 INFO sqlalchemy.engine.Engine [generated in 0.00067s] ()\n"
     ]
    }
   ],
   "source": [
    "with temp_db.connect() as conn:\n",
    "    result = conn.execute(text(\"Select ORDERNUMBER, SALES from Sales ORDER BY SALES DESC LIMIT 1\"))"
   ]
  },
  {
   "cell_type": "code",
   "execution_count": 13,
   "id": "a0a98401",
   "metadata": {},
   "outputs": [
    {
     "data": {
      "text/plain": [
       "[(10407, 14082.8)]"
      ]
     },
     "execution_count": 13,
     "metadata": {},
     "output_type": "execute_result"
    }
   ],
   "source": [
    "result.all()"
   ]
  },
  {
   "cell_type": "markdown",
   "id": "500f0f6f",
   "metadata": {},
   "source": [
    "## OpenAI API\n",
    "\n",
    "Remember to use the notebook as shown, you must set your OpenAI API Key as an environment variable. Obviously, there are many ways you could provide your API Key to the Python code, input() or even hard-coded, but those are typically not recommended for safety reasons. Having it as an environment variable let's the key live on the computer, but not actually be present in the code.\n",
    "\n",
    "### Set-up Open AI API Key\n",
    "\n",
    "We'll only need to do this once per computer"
   ]
  },
  {
   "cell_type": "code",
   "execution_count": 32,
   "id": "c90b9b5f",
   "metadata": {},
   "outputs": [],
   "source": [
    "# Uncomment below and swap in your key to place your environment key using Python\n",
    "# Then you can delete the key string and the code cell below will still work!\n",
    "# os.environ[\"OPENAI_API_KEY\"] = \"Your key goes here!"
   ]
  },
  {
   "cell_type": "code",
   "execution_count": 33,
   "id": "ca0fe9c8",
   "metadata": {},
   "outputs": [],
   "source": [
    "openai.api_key = os.getenv(\"OPENAI_API_KEY\")"
   ]
  },
  {
   "cell_type": "markdown",
   "id": "a8550135",
   "metadata": {},
   "source": [
    "### Inform GPT about the SQL Table Structure\n",
    "\n",
    "We need to tell GPT what the table structure looks like before it can understand the schema enough to create a SQL query. Let's create a function to generate the first part of the example text below (which we can then attach a user natural language query to!)\n",
    "\n",
    "\n",
    "**Below is an example input to GPT, we tell it the table structure and the NLP question, then at the end we tell it to \"SELECT\"...**\n",
    "\n",
    "**Thus GPT must finish with the rest of the most reasonable SQL query.**"
   ]
  },
  {
   "cell_type": "code",
   "execution_count": 16,
   "id": "8e80ae1a",
   "metadata": {},
   "outputs": [],
   "source": [
    "### Postgres SQL tables, with their properties:\n",
    "#\n",
    "# Employee(id, name, department_id)\n",
    "# Department(id, name, address)\n",
    "# Salary_Payments(id, employee_id, amount, date)\n",
    "#\n",
    "### A query to list the names of the departments which employed more than 10 employees in the last 3 months\n",
    "# SELECT\n"
   ]
  },
  {
   "cell_type": "code",
   "execution_count": 20,
   "id": "1677ae7a",
   "metadata": {},
   "outputs": [],
   "source": [
    "def create_table_definition_prompt(df):\n",
    "    \"\"\"\n",
    "    This function returns a prompt that informs GPT that we want to work with SQL Tables\n",
    "    \"\"\"\n",
    "\n",
    "    prompt = '''### sqlite SQL table, with its properties:\n",
    "#\n",
    "# Sales({})\n",
    "#\n",
    "'''.format(\",\".join(str(x) for x in df.columns))\n",
    "    \n",
    "    return prompt"
   ]
  },
  {
   "cell_type": "code",
   "execution_count": 21,
   "id": "ead0d49d",
   "metadata": {},
   "outputs": [
    {
     "name": "stdout",
     "output_type": "stream",
     "text": [
      "### sqlite SQL table, with its properties:\n",
      "#\n",
      "# Sales(ORDERNUMBER,QUANTITYORDERED,PRICEEACH,ORDERLINENUMBER,SALES,ORDERDATE,STATUS,QTR_ID,MONTH_ID,YEAR_ID,PRODUCTLINE,MSRP,PRODUCTCODE,CUSTOMERNAME,PHONE,ADDRESSLINE1,ADDRESSLINE2,CITY,STATE,POSTALCODE,COUNTRY,TERRITORY,CONTACTLASTNAME,CONTACTFIRSTNAME,DEALSIZE)\n",
      "#\n",
      "\n"
     ]
    }
   ],
   "source": [
    "print(create_table_definition_prompt(df))"
   ]
  },
  {
   "cell_type": "markdown",
   "id": "9efc01b2",
   "metadata": {},
   "source": [
    "### Get Natural Language Request:\n",
    "\n",
    "Now let's create a function that grabs the natural language information request:"
   ]
  },
  {
   "cell_type": "code",
   "execution_count": 22,
   "id": "b3e1e26c",
   "metadata": {},
   "outputs": [],
   "source": [
    "def prompt_input():\n",
    "    nlp_text = input(\"Enter information you want to obtain: \")\n",
    "    return nlp_text"
   ]
  },
  {
   "cell_type": "code",
   "execution_count": 23,
   "id": "b7214c65",
   "metadata": {},
   "outputs": [
    {
     "name": "stdout",
     "output_type": "stream",
     "text": [
      "Enter information you want to obtain: Return the sum of SALES per POSTALCODE\n"
     ]
    }
   ],
   "source": [
    "nlp_text = prompt_input()"
   ]
  },
  {
   "cell_type": "markdown",
   "id": "5bd37fb8",
   "metadata": {},
   "source": [
    "Now let's combine the results in one function:"
   ]
  },
  {
   "cell_type": "code",
   "execution_count": 24,
   "id": "af6043c4",
   "metadata": {},
   "outputs": [
    {
     "data": {
      "text/plain": [
       "'Return the sum of SALES per POSTALCODE'"
      ]
     },
     "execution_count": 24,
     "metadata": {},
     "output_type": "execute_result"
    }
   ],
   "source": [
    "nlp_text"
   ]
  },
  {
   "cell_type": "code",
   "execution_count": 25,
   "id": "ce9243ff",
   "metadata": {},
   "outputs": [],
   "source": [
    "def combine_prompts(df, query_prompt):\n",
    "    definition = create_table_definition_prompt(df)\n",
    "    query_init_string = f\"### A query to answer: {query_prompt}\\nSELECT\"\n",
    "    return definition+query_init_string\n",
    "    "
   ]
  },
  {
   "cell_type": "code",
   "execution_count": 26,
   "id": "a8efd61f",
   "metadata": {},
   "outputs": [
    {
     "data": {
      "text/plain": [
       "'### sqlite SQL table, with its properties:\\n#\\n# Sales(ORDERNUMBER,QUANTITYORDERED,PRICEEACH,ORDERLINENUMBER,SALES,ORDERDATE,STATUS,QTR_ID,MONTH_ID,YEAR_ID,PRODUCTLINE,MSRP,PRODUCTCODE,CUSTOMERNAME,PHONE,ADDRESSLINE1,ADDRESSLINE2,CITY,STATE,POSTALCODE,COUNTRY,TERRITORY,CONTACTLASTNAME,CONTACTFIRSTNAME,DEALSIZE)\\n#\\n### A query to answer: Return the sum of SALES per POSTALCODE\\nSELECT'"
      ]
     },
     "execution_count": 26,
     "metadata": {},
     "output_type": "execute_result"
    }
   ],
   "source": [
    "combine_prompts(df, nlp_text)"
   ]
  },
  {
   "cell_type": "markdown",
   "id": "8204c013",
   "metadata": {},
   "source": [
    "Notice how GPT works, it will complete the text above, thus we start to notify it to begin a SQL query by writing \"\\nSELECT\"\n",
    "\n",
    "Now let's get the response:\n",
    "\n",
    "### OpenAI API Call\n",
    "\n",
    "Let's use the Code DaVinci model since we know it understand SQL (in the future generalized models may work even better and not need the specify \"Code\")!"
   ]
  },
  {
   "cell_type": "code",
   "execution_count": 36,
   "id": "504cf124",
   "metadata": {},
   "outputs": [],
   "source": [
    "response = openai.Completion.create(\n",
    "  model=\"code-davinci-002\",\n",
    "  prompt=combine_prompts(df, nlp_text),\n",
    "  temperature=0,\n",
    "  max_tokens=150,\n",
    "  top_p=1.0,\n",
    "  frequency_penalty=0.0,\n",
    "  presence_penalty=0.0,\n",
    "  stop=[\"#\", \";\"]\n",
    ")\n"
   ]
  },
  {
   "cell_type": "code",
   "execution_count": 37,
   "id": "3da1e3d7",
   "metadata": {},
   "outputs": [
    {
     "data": {
      "text/plain": [
       "<OpenAIObject text_completion id=cmpl-6ZW7mYkC5GQjD6J4Rjl2VdwytXv7K at 0x1bf17834090> JSON: {\n",
       "  \"choices\": [\n",
       "    {\n",
       "      \"finish_reason\": \"stop\",\n",
       "      \"index\": 0,\n",
       "      \"logprobs\": null,\n",
       "      \"text\": \" POSTALCODE, SUM(SALES) FROM Sales GROUP BY POSTALCODE\"\n",
       "    }\n",
       "  ],\n",
       "  \"created\": 1673922986,\n",
       "  \"id\": \"cmpl-6ZW7mYkC5GQjD6J4Rjl2VdwytXv7K\",\n",
       "  \"model\": \"code-davinci-002\",\n",
       "  \"object\": \"text_completion\",\n",
       "  \"usage\": {\n",
       "    \"completion_tokens\": 19,\n",
       "    \"prompt_tokens\": 158,\n",
       "    \"total_tokens\": 177\n",
       "  }\n",
       "}"
      ]
     },
     "execution_count": 37,
     "metadata": {},
     "output_type": "execute_result"
    }
   ],
   "source": [
    "response"
   ]
  },
  {
   "cell_type": "markdown",
   "id": "5e912693",
   "metadata": {},
   "source": [
    "Now let's build a function to parse the section of the response we want: "
   ]
  },
  {
   "cell_type": "code",
   "execution_count": 38,
   "id": "c4701710",
   "metadata": {},
   "outputs": [],
   "source": [
    "def handle_response(response):\n",
    "    query = response[\"choices\"][0][\"text\"]\n",
    "    if query.startswith(\" \"):\n",
    "        query = \"Select\"+ query\n",
    "    return query"
   ]
  },
  {
   "cell_type": "code",
   "execution_count": 39,
   "id": "c30dedfc",
   "metadata": {},
   "outputs": [
    {
     "data": {
      "text/plain": [
       "'Select POSTALCODE, SUM(SALES) FROM Sales GROUP BY POSTALCODE'"
      ]
     },
     "execution_count": 39,
     "metadata": {},
     "output_type": "execute_result"
    }
   ],
   "source": [
    "handle_response(response)"
   ]
  },
  {
   "cell_type": "markdown",
   "id": "c221006f",
   "metadata": {},
   "source": [
    "Perfect! Now we just pass that into our Database:"
   ]
  },
  {
   "cell_type": "code",
   "execution_count": 40,
   "id": "08dcf62a",
   "metadata": {},
   "outputs": [
    {
     "name": "stdout",
     "output_type": "stream",
     "text": [
      "2023-01-16 18:36:41,594 INFO sqlalchemy.engine.Engine Select POSTALCODE, SUM(SALES) FROM Sales GROUP BY POSTALCODE\n",
      "2023-01-16 18:36:41,595 INFO sqlalchemy.engine.Engine [generated in 0.00074s] ()\n"
     ]
    }
   ],
   "source": [
    "with temp_db.connect() as conn:\n",
    "    result = conn.execute(text(handle_response(response)))"
   ]
  },
  {
   "cell_type": "code",
   "execution_count": 41,
   "id": "9318b9cc",
   "metadata": {},
   "outputs": [
    {
     "data": {
      "text/plain": [
       "[(None, 272407.14),\n",
       " ('10022', 560787.7699999998),\n",
       " ('10100', 94117.26000000002),\n",
       " ('106-0032', 120562.73999999996),\n",
       " ('1203', 117713.55999999998),\n",
       " ('1227 MM', 94015.73),\n",
       " ('13008', 74936.14),\n",
       " ('1734', 145041.6),\n",
       " ('2', 57756.43),\n",
       " ('2060', 153996.13000000003),\n",
       " ('2067', 151570.98000000004),\n",
       " ('21240', 111250.37999999996),\n",
       " ('24067', 85555.98999999998),\n",
       " ('24100', 137955.72000000003),\n",
       " ('28023', 170257.33000000005),\n",
       " ('28034', 912294.1100000002),\n",
       " ('3004', 200995.40999999997),\n",
       " ('31000', 70488.44),\n",
       " ('3150', 64591.46000000001),\n",
       " ('4101', 59469.11999999999),\n",
       " ('4110', 116599.19),\n",
       " ('41101', 54723.62),\n",
       " ('42100', 142601.33000000002),\n",
       " ('44000', 204304.86),\n",
       " ('5020', 149798.63),\n",
       " ('50553', 207874.86),\n",
       " ('50739', 100306.58),\n",
       " ('51003', 154069.65999999997),\n",
       " ('51100', 135042.94),\n",
       " ('51247', 139243.99999999994),\n",
       " ('530-0003', 67605.07),\n",
       " ('58339', 165255.20000000004),\n",
       " ('59000', 69052.41),\n",
       " ('60528', 85171.58999999998),\n",
       " ('62005', 131685.30000000002),\n",
       " ('67000', 80438.48),\n",
       " ('69004', 142874.25000000003),\n",
       " ('69045', 115498.73000000001),\n",
       " ('70267', 122138.14000000001),\n",
       " ('71270', 151189.12999999998),\n",
       " ('75012', 97203.68000000001),\n",
       " ('75016', 93170.65999999999),\n",
       " ('75508', 78570.34000000001),\n",
       " ('78000', 64834.32000000001),\n",
       " ('79903', 172989.68000000008),\n",
       " ('8010', 52263.899999999994),\n",
       " ('8022', 78411.86000000002),\n",
       " ('80686', 34993.92),\n",
       " ('8200', 100595.54999999999),\n",
       " ('83030', 82751.08000000002),\n",
       " ('90003', 104561.95999999998),\n",
       " ('90110', 104370.38),\n",
       " ('91217', 87489.22999999998),\n",
       " ('92561', 9129.349999999999),\n",
       " ('94019', 129312.82999999999),\n",
       " ('94217', 331011.8500000001),\n",
       " ('97561', 57294.420000000006),\n",
       " ('97562', 756752.8500000003),\n",
       " ('97823', 79472.07),\n",
       " ('B-1180', 74972.52),\n",
       " ('B-6000', 33440.1),\n",
       " ('EC2 5NT', 157807.80999999997),\n",
       " ('FIN-02271', 113961.14999999997),\n",
       " ('H1J 1C3', 74204.79),\n",
       " ('N 0106', 79224.23),\n",
       " ('N 5804', 111640.28),\n",
       " ('PO31 7PJ', 78240.83999999998),\n",
       " ('S-844 67', 134259.33000000002),\n",
       " ('S-958 22', 75754.88),\n",
       " ('T2F 8M4', 74634.84999999999),\n",
       " ('V3F 2K1', 75238.92),\n",
       " ('WA1 1DP', 36019.04),\n",
       " ('WX1 6LT', 118008.26999999999),\n",
       " ('WX3 6FW', 88804.5)]"
      ]
     },
     "execution_count": 41,
     "metadata": {},
     "output_type": "execute_result"
    }
   ],
   "source": [
    "result.all()"
   ]
  },
  {
   "cell_type": "markdown",
   "id": "f6c6e854",
   "metadata": {},
   "source": [
    "Perfect! You can explore the .py files to view a system that brings it all together!"
   ]
  }
 ],
 "metadata": {
  "kernelspec": {
   "display_name": "Python 3 (ipykernel)",
   "language": "python",
   "name": "python3"
  },
  "language_info": {
   "codemirror_mode": {
    "name": "ipython",
    "version": 3
   },
   "file_extension": ".py",
   "mimetype": "text/x-python",
   "name": "python",
   "nbconvert_exporter": "python",
   "pygments_lexer": "ipython3",
   "version": "3.9.12"
  },
  "vscode": {
   "interpreter": {
    "hash": "5455cba45dca8dec86c35d949ecf676492206ef67d9fdf2560e140a882ab099f"
   }
  }
 },
 "nbformat": 4,
 "nbformat_minor": 5
}

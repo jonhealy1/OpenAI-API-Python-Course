{
 "cells": [
  {
   "cell_type": "markdown",
   "id": "f09d97c6",
   "metadata": {},
   "source": [
    "<a href = \"https://www.pieriantraining.com\"><img src=\"../PT Centered Purple.png\"> </a>\n",
    "\n",
    "<em style=\"text-align:center\">Copyrighted by Pierian Training</em>"
   ]
  },
  {
   "cell_type": "markdown",
   "id": "eade2b8e",
   "metadata": {},
   "source": [
    "## Automatic Test Generation\n",
    "\n",
    "In this project, we will build an automatic test generation and grading platform!\n",
    "All we have to do is to provide a topic, the number of questions and the number of options for each question!\n",
    "Based on this information, a suitable test is generated, presented to the user and graded automatically!"
   ]
  },
  {
   "cell_type": "markdown",
   "id": "55750917",
   "metadata": {},
   "source": [
    "## Imports"
   ]
  },
  {
   "cell_type": "code",
   "execution_count": 1,
   "id": "a8010b6d",
   "metadata": {},
   "outputs": [],
   "source": [
    "import os\n",
    "import openai\n"
   ]
  },
  {
   "cell_type": "markdown",
   "id": "353c1371",
   "metadata": {},
   "source": [
    "## OpenAI API\n",
    "\n",
    "Remember to use the notebook as shown, you must set your OpenAI API Key as an environment variable. Obviously, there are many ways you could provide your API Key to the Python code, input() or even hard-coded, but those are typically not recommended for safety reasons. Having it as an environment variable let's the key live on the computer, but not actually be present in the code.\n",
    "\n",
    "### Set-up Open AI API Key\n",
    "\n",
    "We'll only need to do this once per computer"
   ]
  },
  {
   "cell_type": "code",
   "execution_count": 5,
   "id": "e912ecce",
   "metadata": {},
   "outputs": [],
   "source": [
    "# Uncomment below and swap in your key to place your environment key using Python\n",
    "# Then you can delete the key string and the code cell below will still work!\n",
    "# os.environ[\"OPENAI_API_KEY\"] = \"Your key goes here!"
   ]
  },
  {
   "cell_type": "code",
   "execution_count": 3,
   "id": "2ccc0431",
   "metadata": {},
   "outputs": [],
   "source": [
    "openai.api_key = os.getenv(\"OPENAI_API_KEY\")"
   ]
  },
  {
   "cell_type": "markdown",
   "id": "69d2e60d",
   "metadata": {},
   "source": [
    "### Tell GPT how to generate the test\n",
    "\n",
    "We tell GPT to create a multiple choiz quiz. Hence we define the topic, the number of possible answers as well as the number of questions.\n",
    "To enable automatical grading later, GPT needs to incorporate the correct answer!\n"
   ]
  },
  {
   "cell_type": "code",
   "execution_count": 7,
   "id": "ddf7d2ee",
   "metadata": {},
   "outputs": [],
   "source": [
    "def create_test_prompt(topic, num_questions, num_possible_answers):\n",
    "    prompt = f\"Create a multiple choice quiz on the topic of {topic} consisting of {num_questions} questions. \" \\\n",
    "                 + f\"Each question should have {num_possible_answers} options. \"\\\n",
    "                 + f\"Also include the correct answer for each question using the starting string 'Correct Answer: '.\"\n",
    "    return prompt"
   ]
  },
  {
   "cell_type": "code",
   "execution_count": 9,
   "id": "a33f2994",
   "metadata": {},
   "outputs": [
    {
     "data": {
      "text/plain": [
       "\"Create a multiple choice quiz on the topic of Python consisting of 4 questions. Each question should have 4 options. Also include the correct answer for each question using the starting string 'Correct Answer: '.\""
      ]
     },
     "execution_count": 9,
     "metadata": {},
     "output_type": "execute_result"
    }
   ],
   "source": [
    "create_test_prompt(\"Python\", 4, 4)"
   ]
  },
  {
   "cell_type": "markdown",
   "id": "66bbaab2",
   "metadata": {},
   "source": [
    "### OpenAI API Call\n",
    "Let's use text-davinci-003 for normal text generation"
   ]
  },
  {
   "cell_type": "code",
   "execution_count": 10,
   "id": "0439fbce",
   "metadata": {},
   "outputs": [],
   "source": [
    "response = openai.Completion.create(engine=\"text-davinci-003\",\n",
    "                                            prompt=create_test_prompt(\"Python\", 4, 4),\n",
    "                                            max_tokens=256,\n",
    "                                            temperature=0.7)"
   ]
  },
  {
   "cell_type": "code",
   "execution_count": 11,
   "id": "27f570d6",
   "metadata": {},
   "outputs": [
    {
     "data": {
      "text/plain": [
       "<OpenAIObject text_completion id=cmpl-6bmkS58AMZAXGWLpqc2tRuK88uRaJ at 0x7f8949342db0> JSON: {\n",
       "  \"choices\": [\n",
       "    {\n",
       "      \"finish_reason\": \"stop\",\n",
       "      \"index\": 0,\n",
       "      \"logprobs\": null,\n",
       "      \"text\": \"\\n\\nQ1. What is the syntax for declaring a variable in Python?\\nA. #variable\\nB. var variable\\nC. !variable\\nD. var = variable\\nCorrect Answer: D. var = variable\\n\\nQ2. What type of language is Python?\\nA. Interpreted\\nB. Compiled\\nC. Assembly\\nD. Machine\\nCorrect Answer: A. Interpreted\\n\\nQ3. What type of loop is used when a set of instructions need to be repeated until a condition is met?\\nA. For loop\\nB. While loop\\nC. Do-while loop\\nD. If-else loop\\nCorrect Answer: B. While loop\\n\\nQ4. What is the result of the following expression?\\n2 + 5 * 3\\nA. 23\\nB. 17\\nC. 11\\nD. 25\\nCorrect Answer: B. 17\"\n",
       "    }\n",
       "  ],\n",
       "  \"created\": 1674463544,\n",
       "  \"id\": \"cmpl-6bmkS58AMZAXGWLpqc2tRuK88uRaJ\",\n",
       "  \"model\": \"text-davinci-003\",\n",
       "  \"object\": \"text_completion\",\n",
       "  \"usage\": {\n",
       "    \"completion_tokens\": 185,\n",
       "    \"prompt_tokens\": 39,\n",
       "    \"total_tokens\": 224\n",
       "  }\n",
       "}"
      ]
     },
     "execution_count": 11,
     "metadata": {},
     "output_type": "execute_result"
    }
   ],
   "source": [
    "response"
   ]
  },
  {
   "cell_type": "code",
   "execution_count": 12,
   "id": "87205ede",
   "metadata": {},
   "outputs": [
    {
     "data": {
      "text/plain": [
       "'\\n\\nQ1. What is the syntax for declaring a variable in Python?\\nA. #variable\\nB. var variable\\nC. !variable\\nD. var = variable\\nCorrect Answer: D. var = variable\\n\\nQ2. What type of language is Python?\\nA. Interpreted\\nB. Compiled\\nC. Assembly\\nD. Machine\\nCorrect Answer: A. Interpreted\\n\\nQ3. What type of loop is used when a set of instructions need to be repeated until a condition is met?\\nA. For loop\\nB. While loop\\nC. Do-while loop\\nD. If-else loop\\nCorrect Answer: B. While loop\\n\\nQ4. What is the result of the following expression?\\n2 + 5 * 3\\nA. 23\\nB. 17\\nC. 11\\nD. 25\\nCorrect Answer: B. 17'"
      ]
     },
     "execution_count": 12,
     "metadata": {},
     "output_type": "execute_result"
    }
   ],
   "source": [
    "response[\"choices\"][0][\"text\"]"
   ]
  },
  {
   "cell_type": "markdown",
   "id": "976d903a",
   "metadata": {},
   "source": [
    "### Q/A Extraction\n",
    "\n",
    "We now need to extract the questions and answers to present them to the students later"
   ]
  },
  {
   "cell_type": "code",
   "execution_count": 13,
   "id": "19ba522b",
   "metadata": {},
   "outputs": [],
   "source": [
    "def create_student_view(test, num_questions):\n",
    "    student_view = {1 : \"\"}\n",
    "    question_number = 1\n",
    "    for line in test.split(\"\\n\"):\n",
    "        if not line.startswith(\"Correct Answer:\"):\n",
    "            student_view[question_number] += line+\"\\n\"\n",
    "        else:\n",
    "\n",
    "            if question_number < num_questions:\n",
    "                question_number+=1\n",
    "                student_view[question_number] = \"\"\n",
    "    return student_view\n",
    " "
   ]
  },
  {
   "cell_type": "code",
   "execution_count": 14,
   "id": "98ff4e2a",
   "metadata": {},
   "outputs": [
    {
     "data": {
      "text/plain": [
       "{1: '\\n\\nQ1. What is the syntax for declaring a variable in Python?\\nA. #variable\\nB. var variable\\nC. !variable\\nD. var = variable\\n',\n",
       " 2: '\\nQ2. What type of language is Python?\\nA. Interpreted\\nB. Compiled\\nC. Assembly\\nD. Machine\\n',\n",
       " 3: '\\nQ3. What type of loop is used when a set of instructions need to be repeated until a condition is met?\\nA. For loop\\nB. While loop\\nC. Do-while loop\\nD. If-else loop\\n',\n",
       " 4: '\\nQ4. What is the result of the following expression?\\n2 + 5 * 3\\nA. 23\\nB. 17\\nC. 11\\nD. 25\\n'}"
      ]
     },
     "execution_count": 14,
     "metadata": {},
     "output_type": "execute_result"
    }
   ],
   "source": [
    "create_student_view(response[\"choices\"][0][\"text\"], 4)"
   ]
  },
  {
   "cell_type": "code",
   "execution_count": 16,
   "id": "cb841e65",
   "metadata": {},
   "outputs": [],
   "source": [
    "def extract_answers(test, num_questions):\n",
    "    answers = {1 : \"\"}\n",
    "    question_number = 1\n",
    "    for line in test.split(\"\\n\"):\n",
    "        if line.startswith(\"Correct Answer:\"):\n",
    "            answers[question_number] += line+\"\\n\"\n",
    "\n",
    "            if question_number < num_questions:\n",
    "                question_number+=1\n",
    "                answers[question_number] = \"\"\n",
    "    return answers\n",
    "\n"
   ]
  },
  {
   "cell_type": "code",
   "execution_count": 17,
   "id": "7e6333ab",
   "metadata": {},
   "outputs": [
    {
     "data": {
      "text/plain": [
       "{1: 'Correct Answer: D. var = variable\\n',\n",
       " 2: 'Correct Answer: A. Interpreted\\n',\n",
       " 3: 'Correct Answer: B. While loop\\n',\n",
       " 4: 'Correct Answer: B. 17\\n'}"
      ]
     },
     "execution_count": 17,
     "metadata": {},
     "output_type": "execute_result"
    }
   ],
   "source": [
    "extract_answers(response[\"choices\"][0][\"text\"], 4)"
   ]
  },
  {
   "cell_type": "markdown",
   "id": "560a7a34",
   "metadata": {},
   "source": [
    "### Exam simulation\n",
    "Based on the extracted questions, we can now simulate the exam"
   ]
  },
  {
   "cell_type": "code",
   "execution_count": 18,
   "id": "89d3274e",
   "metadata": {},
   "outputs": [],
   "source": [
    "def take(student_view):\n",
    "    answers = {}\n",
    "    for question, question_view in student_view.items():\n",
    "        print(question_view)\n",
    "        answer = input(\"Enter your answer: \")\n",
    "        answers[question] = answer\n",
    "    return answers\n"
   ]
  },
  {
   "cell_type": "code",
   "execution_count": 22,
   "id": "f3a68e63",
   "metadata": {},
   "outputs": [
    {
     "name": "stdout",
     "output_type": "stream",
     "text": [
      "\n",
      "\n",
      "Q1. What is the syntax for declaring a variable in Python?\n",
      "A. #variable\n",
      "B. var variable\n",
      "C. !variable\n",
      "D. var = variable\n",
      "\n",
      "Enter your answer: D\n",
      "\n",
      "Q2. What type of language is Python?\n",
      "A. Interpreted\n",
      "B. Compiled\n",
      "C. Assembly\n",
      "D. Machine\n",
      "\n",
      "Enter your answer: A\n",
      "\n",
      "Q3. What type of loop is used when a set of instructions need to be repeated until a condition is met?\n",
      "A. For loop\n",
      "B. While loop\n",
      "C. Do-while loop\n",
      "D. If-else loop\n",
      "\n",
      "Enter your answer: b\n",
      "\n",
      "Q4. What is the result of the following expression?\n",
      "2 + 5 * 3\n",
      "A. 23\n",
      "B. 17\n",
      "C. 11\n",
      "D. 25\n",
      "\n",
      "Enter your answer: b\n"
     ]
    }
   ],
   "source": [
    "student_answers = take(create_student_view(response[\"choices\"][0][\"text\"], 4))"
   ]
  },
  {
   "cell_type": "markdown",
   "id": "e232b47a",
   "metadata": {},
   "source": [
    "### Automatic Grading\n",
    "Based on the student's answers and correct answers, we can now grade the test!"
   ]
  },
  {
   "cell_type": "code",
   "execution_count": 41,
   "id": "bb9f0e7c",
   "metadata": {},
   "outputs": [],
   "source": [
    "def grade(correct_answer_dict, answers):\n",
    "    correct_answers = 0\n",
    "    for question, answer in answers.items():\n",
    "        if answer.upper() == correct_answer_dict[question].upper()[16]:\n",
    "            correct_answers+=1\n",
    "    return 100 * correct_answers / len(correct_answer_dict)\n"
   ]
  },
  {
   "cell_type": "code",
   "execution_count": 42,
   "id": "b5616a9f",
   "metadata": {},
   "outputs": [
    {
     "data": {
      "text/plain": [
       "100.0"
      ]
     },
     "execution_count": 42,
     "metadata": {},
     "output_type": "execute_result"
    }
   ],
   "source": [
    "grade(extract_answers(response[\"choices\"][0][\"text\"], 4), student_answers)"
   ]
  }
 ],
 "metadata": {
  "kernelspec": {
   "display_name": "Python 3 (ipykernel)",
   "language": "python",
   "name": "python3"
  },
  "language_info": {
   "codemirror_mode": {
    "name": "ipython",
    "version": 3
   },
   "file_extension": ".py",
   "mimetype": "text/x-python",
   "name": "python",
   "nbconvert_exporter": "python",
   "pygments_lexer": "ipython3",
   "version": "3.9.0"
  }
 },
 "nbformat": 4,
 "nbformat_minor": 5
}

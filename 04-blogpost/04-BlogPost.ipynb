{
 "cells": [
  {
   "cell_type": "markdown",
   "id": "55c3812f",
   "metadata": {},
   "source": [
    "<a href = \"https://www.pieriantraining.com\"><img src=\"../PT Centered Purple.png\"> </a>\n",
    "\n",
    "<em style=\"text-align:center\">Copyrighted by Pierian Training</em>"
   ]
  },
  {
   "cell_type": "markdown",
   "id": "e36a6dc9",
   "metadata": {},
   "source": [
    "# Automatic Blog Post creator\n",
    "\n",
    "In this project we will build a blog poster that writes a blog post given something to talk about or discuss.\n",
    "Additionally, a chariming cover photo will be created!"
   ]
  },
  {
   "cell_type": "markdown",
   "id": "a6379c51",
   "metadata": {},
   "source": [
    "## Imports"
   ]
  },
  {
   "cell_type": "code",
   "execution_count": 1,
   "id": "8ccf2479",
   "metadata": {},
   "outputs": [],
   "source": [
    "import random\n",
    "import string\n",
    "from pathlib import Path\n",
    "import os\n",
    "\n",
    "\n",
    "from git import Repo\n",
    "from bs4 import BeautifulSoup as Soup\n"
   ]
  },
  {
   "cell_type": "markdown",
   "id": "c49d3fae",
   "metadata": {},
   "source": [
    "## Github Pages\n",
    "\n",
    "1. Create a new public repository on github named **username.github.io**, where username is github username.\n",
    "2. Clone the repository\n",
    "3. Create a new file called **index.html**\n",
    "4. Add some content to **index.html**\n",
    "5. Push your changes\n",
    "6. Goto https://username.github.io"
   ]
  },
  {
   "cell_type": "markdown",
   "id": "7c29ee04",
   "metadata": {},
   "source": [
    "## Automatic updates\n",
    "\n",
    "Manually adding, commiting and pushing is tedious. Thus we are going to implement functionality that handles everything for us.\n",
    "Before using openai to generate content for us, we evaluate our code using random strings!"
   ]
  },
  {
   "cell_type": "code",
   "execution_count": 2,
   "id": "c350ae4f",
   "metadata": {},
   "outputs": [
    {
     "data": {
      "text/plain": [
       "'lvlecqvfby'"
      ]
     },
     "execution_count": 2,
     "metadata": {},
     "output_type": "execute_result"
    }
   ],
   "source": [
    "def random_string(length):\n",
    "    letters = string.ascii_lowercase\n",
    "    \n",
    "    return ''.join(random.choice(letters) for i in range(length))\n",
    "\n",
    "random_string(10)"
   ]
  },
  {
   "cell_type": "code",
   "execution_count": 15,
   "id": "9876f93e",
   "metadata": {},
   "outputs": [],
   "source": [
    "PATH_TO_BLOG_REPO = Path(\"/Users/marci/GIT/OpenAI-API-Python-Course/04-blogpost/b4shy.github.io/.git/\")\n",
    "\n",
    "def update_blog(commit_message=\"Updated blog\"):\n",
    "    repo = Repo(PATH_TO_BLOG_REPO)\n",
    "    repo.git.add(all=True)\n",
    "    repo.index.commit(commit_message)\n",
    "    origin = repo.remote(name='origin')\n",
    "    origin.push()\n"
   ]
  },
  {
   "cell_type": "markdown",
   "id": "9cefdf12",
   "metadata": {},
   "source": [
    "Let's create a random text and push it to our blog!"
   ]
  },
  {
   "cell_type": "code",
   "execution_count": null,
   "id": "dea502ff",
   "metadata": {},
   "outputs": [],
   "source": [
    "random_blogpost = random_string(1000)"
   ]
  },
  {
   "cell_type": "code",
   "execution_count": null,
   "id": "e5247043",
   "metadata": {},
   "outputs": [],
   "source": [
    "with open(\"b4shy.github.io/index.html\", \"w\") as f:\n",
    "    f.write(random_blogpost)"
   ]
  },
  {
   "cell_type": "code",
   "execution_count": null,
   "id": "02252b68",
   "metadata": {},
   "outputs": [],
   "source": [
    "update_blog()"
   ]
  },
  {
   "cell_type": "markdown",
   "id": "a0521153",
   "metadata": {},
   "source": [
    "Now, let's check if our blog got updated! Note that it might take a minute or two.\n",
    "\n",
    "One problem remains: We always overwrite the starting page!\n",
    "It would be much better to create a new html file and create a link to this file on the homepage. \n",
    "Ideally, the routine would automatically assign a file name and make sure that nothing is overwritten!"
   ]
  },
  {
   "cell_type": "code",
   "execution_count": 6,
   "id": "3da05527",
   "metadata": {},
   "outputs": [
    {
     "data": {
      "text/plain": [
       "PosixPath('/Users/marci/GIT/OpenAI-API-Python-Course/04-blogpost/b4shy.github.io')"
      ]
     },
     "execution_count": 6,
     "metadata": {},
     "output_type": "execute_result"
    }
   ],
   "source": [
    "PATH_TO_BLOG_REPO.parent"
   ]
  },
  {
   "cell_type": "code",
   "execution_count": 7,
   "id": "09e611e2",
   "metadata": {},
   "outputs": [],
   "source": [
    "def create_new_blog(content):\n",
    "    path_to_blog = PATH_TO_BLOG_REPO.parent\n",
    "    \n",
    "    path_to_content = path_to_blog/\"content\"\n",
    "    path_to_content.mkdir(exist_ok=True, parents=True)\n",
    "    \n",
    "    files = len(os.listdir(path_to_content))\n",
    "    new_title = f\"{files+1}.html\"\n",
    "    path_to_new_content = path_to_content/new_title\n",
    "    \n",
    "    \n",
    "    if not os.path.exists(path_to_new_content):\n",
    "        with open(path_to_new_content, \"w\") as f:\n",
    "            f.write(content)\n",
    "            print(\"Blog created\")\n",
    "            return path_to_new_content\n",
    "    else:\n",
    "        raise FileExistsError(\"File already exist! Abort\")"
   ]
  },
  {
   "cell_type": "code",
   "execution_count": 8,
   "id": "9107ba71",
   "metadata": {},
   "outputs": [
    {
     "name": "stdout",
     "output_type": "stream",
     "text": [
      "Blog created\n"
     ]
    }
   ],
   "source": [
    "path_to_new_content = create_new_blog(random_string(5000))"
   ]
  },
  {
   "cell_type": "code",
   "execution_count": 9,
   "id": "533e8b78",
   "metadata": {},
   "outputs": [
    {
     "data": {
      "text/plain": [
       "PosixPath('/Users/marci/GIT/OpenAI-API-Python-Course/04-blogpost/b4shy.github.io/content/1.html')"
      ]
     },
     "execution_count": 9,
     "metadata": {},
     "output_type": "execute_result"
    }
   ],
   "source": [
    "path_to_new_content"
   ]
  },
  {
   "cell_type": "markdown",
   "id": "e0bcaae3",
   "metadata": {},
   "source": [
    "Now all we have to do in order to access our new blog is to add the link to index.html.\n",
    "Let's manually overwrite index.html with the following code.\n",
    "\n",
    "After that we can use beautifulsoup to automatically add the link to index.html"
   ]
  },
  {
   "cell_type": "raw",
   "id": "4a589095",
   "metadata": {},
   "source": [
    "<!DOCTYPE html>\n",
    "<html>\n",
    "\n",
    "    <head>\n",
    "        <title>My Blog</title>\n",
    "    </head>\n",
    "\n",
    "    <body>\n",
    "        <h1>My Blog</h1>\n",
    "        <a href=\"index.html\">Home</a>\n",
    "\n",
    "    </body>\n",
    "    \n",
    "</html>"
   ]
  },
  {
   "cell_type": "code",
   "execution_count": 10,
   "id": "dcffb08c",
   "metadata": {},
   "outputs": [
    {
     "data": {
      "text/plain": [
       "'<!DOCTYPE html>\\n\\n<html>\\n<head>\\n<title>My Blog</title>\\n</head>\\n<body>\\n<h1>My Blog</h1>\\n<a href=\"index.html\">Home</a>\\n</body>\\n</html>'"
      ]
     },
     "execution_count": 10,
     "metadata": {},
     "output_type": "execute_result"
    }
   ],
   "source": [
    "with open(\"b4shy.github.io/index.html\") as index:\n",
    "    soup = Soup(index.read())\n",
    "str(soup)"
   ]
  },
  {
   "cell_type": "code",
   "execution_count": 11,
   "id": "6b744b6c",
   "metadata": {},
   "outputs": [],
   "source": [
    "def check_for_duplicate_links(path_to_new_content, links):\n",
    "    urls = [str(link.get(\"href\")) for link in links]\n",
    "    content_path = str(Path(*path_to_new_content.parts[-2:]))\n",
    "    return content_path in urls\n",
    "    "
   ]
  },
  {
   "cell_type": "code",
   "execution_count": 12,
   "id": "75b7bcd9",
   "metadata": {},
   "outputs": [],
   "source": [
    "def write_to_index(path_to_new_content):\n",
    "    with open(\"b4shy.github.io/index.html\") as index:\n",
    "        soup = Soup(index.read())\n",
    "\n",
    "    links = soup.find_all(\"a\")\n",
    "    last_link = links[-1]\n",
    "    \n",
    "    if check_for_duplicate_links(path_to_new_content, links):\n",
    "        raise ValueError(\"Link does already exist!\")\n",
    "        \n",
    "    link_to_new_blog = soup.new_tag(\"a\", href=Path(*path_to_new_content.parts[-2:]))\n",
    "    link_to_new_blog.string = path_to_new_content.name.split(\".\")[0]\n",
    "    last_link.insert_after(link_to_new_blog)\n",
    "    \n",
    "    with open(\"b4shy.github.io/index.html\", \"w\") as f:\n",
    "        f.write(str(soup.prettify(formatter='html')))"
   ]
  },
  {
   "cell_type": "code",
   "execution_count": 13,
   "id": "c22f3186",
   "metadata": {},
   "outputs": [],
   "source": [
    "write_to_index(path_to_new_content)"
   ]
  },
  {
   "cell_type": "markdown",
   "id": "d8d5adb3",
   "metadata": {},
   "source": [
    "Last but not least we can push the new blogpost to the repostory!"
   ]
  },
  {
   "cell_type": "code",
   "execution_count": 16,
   "id": "6570e6c5",
   "metadata": {},
   "outputs": [],
   "source": [
    "update_blog()"
   ]
  }
 ],
 "metadata": {
  "kernelspec": {
   "display_name": "Python 3 (ipykernel)",
   "language": "python",
   "name": "python3"
  },
  "language_info": {
   "codemirror_mode": {
    "name": "ipython",
    "version": 3
   },
   "file_extension": ".py",
   "mimetype": "text/x-python",
   "name": "python",
   "nbconvert_exporter": "python",
   "pygments_lexer": "ipython3",
   "version": "3.9.0"
  }
 },
 "nbformat": 4,
 "nbformat_minor": 5
}
